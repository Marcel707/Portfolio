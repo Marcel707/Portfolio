{
 "cells": [
  {
   "cell_type": "markdown",
   "metadata": {},
   "source": [
    "# Motivation"
   ]
  },
  {
   "cell_type": "markdown",
   "metadata": {},
   "source": [
    "The goal of the following case study is to gain a deeper insight into the qualities, which indicate a good tasting wine. For that reason we will firstly deepen our domain knowledge, then explore the data and apply different regression models. In conclusion we will use the SMOTE (Synthetic Minority Over-sampling Technique) algorithm as a means to combat the class imbalance between the good and bad wine entries."
   ]
  },
  {
   "cell_type": "markdown",
   "metadata": {},
   "source": [
    "**Prediction Models**:  Logistic Regression, Decision Tree Classifier, Naive Bayes, Random Forest Classifier, SVM Classifier <br>\n",
    "**Improving Accuracy**: Synthesize new data point with the SMOTE algorithm."
   ]
  },
  {
   "cell_type": "markdown",
   "metadata": {},
   "source": [
    "<p align=\"center\">\n",
    "  <img src=\"../Images/wine.jpg\" width=\"600\">"
   ]
  },
  {
   "cell_type": "markdown",
   "metadata": {},
   "source": [
    "# Section I: Deepening domain knowledge as an aspiring sommelier"
   ]
  },
  {
   "cell_type": "markdown",
   "metadata": {},
   "source": [
    "### General Information\n",
    "The data set contains 1599 red vinho verde wine taste testing results.\n",
    "Each sample was evaluated by a minimum of three sensory assessors\n",
    "(using blind tastes), which graded the wine in a scale that ranges from\n",
    "0 (very bad) to 10 (excellent). The final sensory score is given by the\n",
    "median of these evaluations [[Cortez et al., 2009, p. 2]](https://www.sciencedirect.com/science/article/pii/S0167923609001377?via%3Dihub)."
   ]
  },
  {
   "cell_type": "markdown",
   "metadata": {},
   "source": [
    "### Feature information \n",
    "\n",
    "| Feature | Unit | Description |\n",
    "|:-|:-|:-|\n",
    "| **fixed acidity** | g/dm³ | Fixed acidity is a measurement of the total concentration of titratable acids and free hydrogen ions.  These acids either occur naturally or are created through the fermentation process. Citric acid also falls under this category.|\n",
    "| **volatile acidity** | g/dm³ | The amount of volatile acidity defines the spoilage of a wine. Some winemakers however seek a low level of this kind of acidity, to add to the perceived complexity of a wine. |\n",
    "| **citric acid** | g/dm³ | Citric acids are generally found in very small quantities. They act as a preservative, are added to increase acidity or to attain a unique flavor. |\n",
    "| **residual sugar** | g/dm³ | Residual Sugar describes the natural grape sugar, which is leftover after the fermentation has ended. During winemaking, yeast normally converts all sugar into alcohol, however, sometimes not all the sugar is fermented. The path to a remarkable wine is to find the perfect balance between sweetness and sourness. |\n",
    "| **chlorides** | g/dm³ | Chlorides can give a wine a certain “salty taste”. Although not necessarily desirable, the right amount can give the wine an additional nuance. |\n",
    "| **free sulfur dioxide** | mg/dm³ | Free sulfur dioxide is a measure of the amount of SO2 that is not bound to other molecules. Used throughout all stages of the winemaking process, it serves to prevent oxidation and microbial growth. |\n",
    "| **total sulfur dioxide** | mg/dm³ | Total Sulfur Dioxide is the portion of SO2 that is free in the wine plus the portion that is bound to other chemicals. |\n",
    "| **density** | g/cm³ | Monitoring the density during the fermentation allows for optimal control of the sugar conversion process into ethanol. Sweeter wines generally have a higher density. |\n",
    "| **pH** | - | Winemakers are aiming for high pH levels, as high as 4.0. This makes wines taste softer. |\n",
    "| **sulphates** | g/dm³ | An increase in sulphates might be related to the fermenting nutrition, which is very important to improve the wine aroma. |\n",
    "| **alcohol** | vol.% | Although not unique to solely wine, alcohol is probably on of the main reasons, why mankind has enjoyed the taste of wine for millennia. |"
   ]
  },
  {
   "cell_type": "markdown",
   "metadata": {},
   "source": [
    "Deducting from the information above, we can conclude some correlations, which one would expect to occur. Testing these can be a good way to see, how firm our understanding of the data is.\n",
    "\n",
    "| feature pair | correlation |\n",
    "|:-:|:-:|\n",
    "| fixed acidity, pH | **-** |\n",
    "| fixed acidity, citric acid | **+** |\n",
    "| volatile acidity, quality | **-** |\n",
    "| residual sugar, density | **+** |\n",
    "| free sulfur dioxide, total sulfur dioxide | **+** |\n",
    "| density, alcohol | **-** |"
   ]
  },
  {
   "cell_type": "markdown",
   "metadata": {},
   "source": [
    " ### Citation\n",
    " The used dataset is public available for research. The details are described in [[Cortez et al., 2009]](https://www.sciencedirect.com/science/article/pii/S0167923609001377?via%3Dihub). The Dataset can be downloaded from the UCI Machine Learning Repository [[Source]](https://archive.ics.uci.edu/ml/datasets/wine+quality)\n",
    " <p>\n",
    "  P. Cortez, A. Cerdeira, F. Almeida, T. Matos and J. Reis. Modeling wine preferences by data mining from physicochemical properties. In Decision Support Systems, Elsevier, 47(4):547-553. ISSN: 0167-9236.  <br>"
   ]
  },
  {
   "cell_type": "markdown",
   "metadata": {},
   "source": [
    "# Section II: Data Exploration"
   ]
  },
  {
   "cell_type": "code",
   "execution_count": 1,
   "metadata": {},
   "outputs": [],
   "source": [
    "#Importing packages\n",
    "import pandas as pd\n",
    "import seaborn as sns\n",
    "import matplotlib.pyplot as plt\n",
    "#store resulting plots also in the notebook document\n",
    "%matplotlib inline"
   ]
  },
  {
   "cell_type": "code",
   "execution_count": 2,
   "metadata": {},
   "outputs": [],
   "source": [
    "#Importing data\n",
    "data = pd.read_csv('../Data/winequality-red.csv', sep=';')"
   ]
  },
  {
   "cell_type": "code",
   "execution_count": 3,
   "metadata": {},
   "outputs": [
    {
     "data": {
      "text/html": [
       "<div>\n",
       "<style scoped>\n",
       "    .dataframe tbody tr th:only-of-type {\n",
       "        vertical-align: middle;\n",
       "    }\n",
       "\n",
       "    .dataframe tbody tr th {\n",
       "        vertical-align: top;\n",
       "    }\n",
       "\n",
       "    .dataframe thead th {\n",
       "        text-align: right;\n",
       "    }\n",
       "</style>\n",
       "<table border=\"1\" class=\"dataframe\">\n",
       "  <thead>\n",
       "    <tr style=\"text-align: right;\">\n",
       "      <th></th>\n",
       "      <th>fixed acidity</th>\n",
       "      <th>volatile acidity</th>\n",
       "      <th>citric acid</th>\n",
       "      <th>residual sugar</th>\n",
       "      <th>chlorides</th>\n",
       "      <th>free sulfur dioxide</th>\n",
       "      <th>total sulfur dioxide</th>\n",
       "      <th>density</th>\n",
       "      <th>pH</th>\n",
       "      <th>sulphates</th>\n",
       "      <th>alcohol</th>\n",
       "      <th>quality</th>\n",
       "    </tr>\n",
       "  </thead>\n",
       "  <tbody>\n",
       "    <tr>\n",
       "      <th>count</th>\n",
       "      <td>1599.00</td>\n",
       "      <td>1599.00</td>\n",
       "      <td>1599.00</td>\n",
       "      <td>1599.00</td>\n",
       "      <td>1599.00</td>\n",
       "      <td>1599.00</td>\n",
       "      <td>1599.00</td>\n",
       "      <td>1599.00</td>\n",
       "      <td>1599.00</td>\n",
       "      <td>1599.00</td>\n",
       "      <td>1599.00</td>\n",
       "      <td>1599.00</td>\n",
       "    </tr>\n",
       "    <tr>\n",
       "      <th>mean</th>\n",
       "      <td>8.32</td>\n",
       "      <td>0.53</td>\n",
       "      <td>0.27</td>\n",
       "      <td>2.54</td>\n",
       "      <td>0.09</td>\n",
       "      <td>15.87</td>\n",
       "      <td>46.47</td>\n",
       "      <td>1.00</td>\n",
       "      <td>3.31</td>\n",
       "      <td>0.66</td>\n",
       "      <td>10.42</td>\n",
       "      <td>5.64</td>\n",
       "    </tr>\n",
       "    <tr>\n",
       "      <th>std</th>\n",
       "      <td>1.74</td>\n",
       "      <td>0.18</td>\n",
       "      <td>0.19</td>\n",
       "      <td>1.41</td>\n",
       "      <td>0.05</td>\n",
       "      <td>10.46</td>\n",
       "      <td>32.90</td>\n",
       "      <td>0.00</td>\n",
       "      <td>0.15</td>\n",
       "      <td>0.17</td>\n",
       "      <td>1.07</td>\n",
       "      <td>0.81</td>\n",
       "    </tr>\n",
       "    <tr>\n",
       "      <th>min</th>\n",
       "      <td>4.60</td>\n",
       "      <td>0.12</td>\n",
       "      <td>0.00</td>\n",
       "      <td>0.90</td>\n",
       "      <td>0.01</td>\n",
       "      <td>1.00</td>\n",
       "      <td>6.00</td>\n",
       "      <td>0.99</td>\n",
       "      <td>2.74</td>\n",
       "      <td>0.33</td>\n",
       "      <td>8.40</td>\n",
       "      <td>3.00</td>\n",
       "    </tr>\n",
       "    <tr>\n",
       "      <th>25%</th>\n",
       "      <td>7.10</td>\n",
       "      <td>0.39</td>\n",
       "      <td>0.09</td>\n",
       "      <td>1.90</td>\n",
       "      <td>0.07</td>\n",
       "      <td>7.00</td>\n",
       "      <td>22.00</td>\n",
       "      <td>1.00</td>\n",
       "      <td>3.21</td>\n",
       "      <td>0.55</td>\n",
       "      <td>9.50</td>\n",
       "      <td>5.00</td>\n",
       "    </tr>\n",
       "    <tr>\n",
       "      <th>50%</th>\n",
       "      <td>7.90</td>\n",
       "      <td>0.52</td>\n",
       "      <td>0.26</td>\n",
       "      <td>2.20</td>\n",
       "      <td>0.08</td>\n",
       "      <td>14.00</td>\n",
       "      <td>38.00</td>\n",
       "      <td>1.00</td>\n",
       "      <td>3.31</td>\n",
       "      <td>0.62</td>\n",
       "      <td>10.20</td>\n",
       "      <td>6.00</td>\n",
       "    </tr>\n",
       "    <tr>\n",
       "      <th>75%</th>\n",
       "      <td>9.20</td>\n",
       "      <td>0.64</td>\n",
       "      <td>0.42</td>\n",
       "      <td>2.60</td>\n",
       "      <td>0.09</td>\n",
       "      <td>21.00</td>\n",
       "      <td>62.00</td>\n",
       "      <td>1.00</td>\n",
       "      <td>3.40</td>\n",
       "      <td>0.73</td>\n",
       "      <td>11.10</td>\n",
       "      <td>6.00</td>\n",
       "    </tr>\n",
       "    <tr>\n",
       "      <th>max</th>\n",
       "      <td>15.90</td>\n",
       "      <td>1.58</td>\n",
       "      <td>1.00</td>\n",
       "      <td>15.50</td>\n",
       "      <td>0.61</td>\n",
       "      <td>72.00</td>\n",
       "      <td>289.00</td>\n",
       "      <td>1.00</td>\n",
       "      <td>4.01</td>\n",
       "      <td>2.00</td>\n",
       "      <td>14.90</td>\n",
       "      <td>8.00</td>\n",
       "    </tr>\n",
       "  </tbody>\n",
       "</table>\n",
       "</div>"
      ],
      "text/plain": [
       "       fixed acidity  volatile acidity  citric acid  residual sugar  \\\n",
       "count        1599.00           1599.00      1599.00         1599.00   \n",
       "mean            8.32              0.53         0.27            2.54   \n",
       "std             1.74              0.18         0.19            1.41   \n",
       "min             4.60              0.12         0.00            0.90   \n",
       "25%             7.10              0.39         0.09            1.90   \n",
       "50%             7.90              0.52         0.26            2.20   \n",
       "75%             9.20              0.64         0.42            2.60   \n",
       "max            15.90              1.58         1.00           15.50   \n",
       "\n",
       "       chlorides  free sulfur dioxide  total sulfur dioxide  density       pH  \\\n",
       "count    1599.00              1599.00               1599.00  1599.00  1599.00   \n",
       "mean        0.09                15.87                 46.47     1.00     3.31   \n",
       "std         0.05                10.46                 32.90     0.00     0.15   \n",
       "min         0.01                 1.00                  6.00     0.99     2.74   \n",
       "25%         0.07                 7.00                 22.00     1.00     3.21   \n",
       "50%         0.08                14.00                 38.00     1.00     3.31   \n",
       "75%         0.09                21.00                 62.00     1.00     3.40   \n",
       "max         0.61                72.00                289.00     1.00     4.01   \n",
       "\n",
       "       sulphates  alcohol  quality  \n",
       "count    1599.00  1599.00  1599.00  \n",
       "mean        0.66    10.42     5.64  \n",
       "std         0.17     1.07     0.81  \n",
       "min         0.33     8.40     3.00  \n",
       "25%         0.55     9.50     5.00  \n",
       "50%         0.62    10.20     6.00  \n",
       "75%         0.73    11.10     6.00  \n",
       "max         2.00    14.90     8.00  "
      ]
     },
     "execution_count": 3,
     "metadata": {},
     "output_type": "execute_result"
    }
   ],
   "source": [
    "#Getting an overview of the data at hand\n",
    "round(data.describe(),2)"
   ]
  },
  {
   "cell_type": "code",
   "execution_count": 4,
   "metadata": {},
   "outputs": [
    {
     "name": "stdout",
     "output_type": "stream",
     "text": [
      "<class 'pandas.core.frame.DataFrame'>\n",
      "RangeIndex: 1599 entries, 0 to 1598\n",
      "Data columns (total 12 columns):\n",
      " #   Column                Non-Null Count  Dtype  \n",
      "---  ------                --------------  -----  \n",
      " 0   fixed acidity         1599 non-null   float64\n",
      " 1   volatile acidity      1599 non-null   float64\n",
      " 2   citric acid           1599 non-null   float64\n",
      " 3   residual sugar        1599 non-null   float64\n",
      " 4   chlorides             1599 non-null   float64\n",
      " 5   free sulfur dioxide   1599 non-null   float64\n",
      " 6   total sulfur dioxide  1599 non-null   float64\n",
      " 7   density               1599 non-null   float64\n",
      " 8   pH                    1599 non-null   float64\n",
      " 9   sulphates             1599 non-null   float64\n",
      " 10  alcohol               1599 non-null   float64\n",
      " 11  quality               1599 non-null   int64  \n",
      "dtypes: float64(11), int64(1)\n",
      "memory usage: 150.0 KB\n"
     ]
    }
   ],
   "source": [
    "#More detailed information\n",
    "data.info()"
   ]
  },
  {
   "cell_type": "code",
   "execution_count": 5,
   "metadata": {},
   "outputs": [
    {
     "data": {
      "text/plain": [
       "Counter({5: 681, 6: 638, 7: 199, 4: 53, 8: 18, 3: 10})"
      ]
     },
     "execution_count": 5,
     "metadata": {},
     "output_type": "execute_result"
    }
   ],
   "source": [
    "#count of each target variable\n",
    "from collections import Counter\n",
    "Counter(data['quality'])"
   ]
  },
  {
   "cell_type": "code",
   "execution_count": 6,
   "metadata": {},
   "outputs": [
    {
     "data": {
      "text/plain": [
       "<matplotlib.axes._subplots.AxesSubplot at 0x1feb7a03708>"
      ]
     },
     "execution_count": 6,
     "metadata": {},
     "output_type": "execute_result"
    },
    {
     "data": {
      "image/png": "[encoded data removed]",
      "text/plain": [
       "<Figure size 432x288 with 1 Axes>"
      ]
     },
     "metadata": {
      "needs_background": "light"
     },
     "output_type": "display_data"
    }
   ],
   "source": [
    "#count of the target variable\n",
    "sns.countplot(x='quality', data = data, palette=\"Set3\")"
   ]
  },
  {
   "cell_type": "markdown",
   "metadata": {},
   "source": [
    "The mean quality with 5.6 is just barely above average. There are also no 1,2,9 or 10 quality level wines. This can also be due the test design itself with the end result being the median of three independent sensory tests."
   ]
  },
  {
   "cell_type": "code",
   "execution_count": 7,
   "metadata": {},
   "outputs": [
    {
     "data": {
      "image/png": "[encoded data removed]",
      "text/plain": [
       "<Figure size 720x576 with 2 Axes>"
      ]
     },
     "metadata": {
      "needs_background": "light"
     },
     "output_type": "display_data"
    }
   ],
   "source": [
    "#Plotting correlation heatmap\n",
    "correlation = data.corr()\n",
    "plt.figure(figsize=(10, 8))\n",
    "heatmap = sns.heatmap(correlation, annot = True, vmin = -1, cmap = \"RdBu_r\")"
   ]
  },
  {
   "cell_type": "markdown",
   "metadata": {},
   "source": [
    "| feature pair | correlation assumption | result |\n",
    "|:-:|:-:|:-:|\n",
    "| fixed acidity, pH | **-** | -0.68 |\n",
    "| fixed acidity, citric acid | **+** | 0.67 |\n",
    "| volatile acidity, quality | **-** | -0.39 |\n",
    "| residual sugar, density | **+** | 0.36 |\n",
    "| free sulfur dioxide, total sulfur dioxide | **+** | 0.67 |\n",
    "| density, alcohol | **-** | -0.5 |"
   ]
  },
  {
   "cell_type": "markdown",
   "metadata": {},
   "source": [
    "Overall the guessed correlation tendencies fit into our understanding of the data. Although some pairings showcase a correlation, some are not as strong as initially anticipated. Residual sugar and density for example are not strongly correlated. The pairs overall show no strong correlation above 0.7. \n",
    "<p>\n",
    "Note: The strongest positive correlation with our target variable \"quality\" stems from the \"alcohol\" level. The most negative impact so far originates from the \"volatile acidity\" feature.  "
   ]
  },
  {
   "cell_type": "code",
   "execution_count": 8,
   "metadata": {},
   "outputs": [
    {
     "data": {
      "image/png": "[encoded data removed]",
      "text/plain": [
       "<Figure size 432x432 with 3 Axes>"
      ]
     },
     "metadata": {
      "needs_background": "light"
     },
     "output_type": "display_data"
    }
   ],
   "source": [
    "#Additional plots to investigate the correlations\n",
    "#Create a new dataframe containing only pH and fixed acidity columns\n",
    "fixedAcidity_pH = data[['pH', 'fixed acidity']]\n",
    "\n",
    "#Initialize a joint-grid\n",
    "gridA = sns.JointGrid(x=\"fixed acidity\", y=\"pH\", data=fixedAcidity_pH, height=6)\n",
    "\n",
    "#Draw a regression plot \n",
    "gridA = gridA.plot_joint(sns.regplot, scatter_kws={\"s\": 10})\n",
    "\n",
    "#Draw a distribution plot\n",
    "gridA = gridA.plot_marginals(sns.distplot)"
   ]
  },
  {
   "cell_type": "markdown",
   "metadata": {},
   "source": [
    "pH < 7 : acidic solution <br>\n",
    "pH = 7 : neutral solution <br>\n",
    "pH > 7 : alkaline solution <br>\n",
    "<p>\n",
    "An increase in the amount of \"fixed acidity\" decreases the pH value."
   ]
  },
  {
   "cell_type": "code",
   "execution_count": 9,
   "metadata": {},
   "outputs": [
    {
     "data": {
      "image/png": "[encoded data removed]",
      "text/plain": [
       "<Figure size 432x432 with 3 Axes>"
      ]
     },
     "metadata": {
      "needs_background": "light"
     },
     "output_type": "display_data"
    }
   ],
   "source": [
    "#Create a new dataframe containing only fixedAcidity and citricAcid columns\n",
    "fixedAcidity_citricAcid = data[['citric acid', 'fixed acidity']]\n",
    "\n",
    "#Initialize a joint-grid\n",
    "gridB = sns.JointGrid(x=\"fixed acidity\", y=\"citric acid\", data=fixedAcidity_citricAcid, height=6)\n",
    "\n",
    "#Draw a regression plot \n",
    "gridB = gridB.plot_joint(sns.regplot, scatter_kws={\"s\": 10})\n",
    "\n",
    "#Draw a distribution plot\n",
    "gridB = gridB.plot_marginals(sns.distplot)"
   ]
  },
  {
   "cell_type": "markdown",
   "metadata": {},
   "source": [
    "\"Fixed acidity\" and \"citric acid\" are intertwined. An idea would be to drop the \"citric acid\" feature but it could also be the case that small changes in the citric taste of a wine distinguish a mediocre tasting wine from a good one."
   ]
  },
  {
   "cell_type": "code",
   "execution_count": 10,
   "metadata": {},
   "outputs": [
    {
     "data": {
      "text/plain": [
       "<matplotlib.axes._subplots.AxesSubplot at 0x1feb7c631c8>"
      ]
     },
     "execution_count": 10,
     "metadata": {},
     "output_type": "execute_result"
    },
    {
     "data": {
      "image/png": "[encoded data removed]",
      "text/plain": [
       "<Figure size 432x288 with 1 Axes>"
      ]
     },
     "metadata": {
      "needs_background": "light"
     },
     "output_type": "display_data"
    }
   ],
   "source": [
    "#Boxplot to further investigate the target value\n",
    "sns.boxplot('quality', 'volatile acidity', data = data, palette=\"Set3\")"
   ]
  },
  {
   "cell_type": "markdown",
   "metadata": {},
   "source": [
    "With \"volatile acidity\" as an indicator of spoilage and therefore decreasing the quality of a wine, makes this plot  consistent with our domain knowledge."
   ]
  },
  {
   "cell_type": "code",
   "execution_count": 11,
   "metadata": {},
   "outputs": [
    {
     "data": {
      "text/plain": [
       "<matplotlib.axes._subplots.AxesSubplot at 0x1feb7c5e748>"
      ]
     },
     "execution_count": 11,
     "metadata": {},
     "output_type": "execute_result"
    },
    {
     "data": {
      "image/png": "[encoded data removed]",
      "text/plain": [
       "<Figure size 432x288 with 1 Axes>"
      ]
     },
     "metadata": {
      "needs_background": "light"
     },
     "output_type": "display_data"
    }
   ],
   "source": [
    "sns.boxplot('quality', 'alcohol', data = data, palette=\"Set3\")"
   ]
  },
  {
   "cell_type": "markdown",
   "metadata": {},
   "source": [
    "Higher volumes of alcohol seem to indicate a good wine. But some wines of 5 and 6 quality levels are also in the range or above the levels of alcohol in a level 8 wine. Alcohol could serve as  a foundation for a good wine, but may not be the sole reason for the excitement in the tasters taste buts."
   ]
  },
  {
   "cell_type": "code",
   "execution_count": 12,
   "metadata": {},
   "outputs": [
    {
     "data": {
      "text/plain": [
       "<matplotlib.axes._subplots.AxesSubplot at 0x1feb864cec8>"
      ]
     },
     "execution_count": 12,
     "metadata": {},
     "output_type": "execute_result"
    },
    {
     "data": {
      "image/png": "[encoded data removed]",
      "text/plain": [
       "<Figure size 432x288 with 1 Axes>"
      ]
     },
     "metadata": {
      "needs_background": "light"
     },
     "output_type": "display_data"
    }
   ],
   "source": [
    "sns.boxplot('quality', 'citric acid', data = data, palette=\"Set3\")"
   ]
  },
  {
   "cell_type": "markdown",
   "metadata": {},
   "source": [
    "\"Citric acid\" seems to be more related to a higher rated wine."
   ]
  },
  {
   "cell_type": "markdown",
   "metadata": {},
   "source": [
    "# Section III: Preprocessing the data"
   ]
  },
  {
   "cell_type": "code",
   "execution_count": 13,
   "metadata": {},
   "outputs": [],
   "source": [
    "from sklearn.preprocessing import StandardScaler, LabelEncoder\n",
    "from sklearn.model_selection import train_test_split\n",
    "from sklearn.metrics import confusion_matrix, classification_report"
   ]
  },
  {
   "cell_type": "code",
   "execution_count": 14,
   "metadata": {},
   "outputs": [],
   "source": [
    "#Making binary classificaion for the response variable.\n",
    "bins = (2, 6.5, 8)\n",
    "group_names = ['bad', 'good']\n",
    "data['quality'] = pd.cut(data['quality'], bins = bins, labels = group_names)"
   ]
  },
  {
   "cell_type": "code",
   "execution_count": 15,
   "metadata": {},
   "outputs": [],
   "source": [
    "#Assign labels to the target variable\n",
    "label_quality = LabelEncoder()\n",
    "data['quality'] = label_quality.fit_transform(data['quality'])"
   ]
  },
  {
   "cell_type": "code",
   "execution_count": 16,
   "metadata": {},
   "outputs": [
    {
     "data": {
      "text/plain": [
       "0    1382\n",
       "1     217\n",
       "Name: quality, dtype: int64"
      ]
     },
     "execution_count": 16,
     "metadata": {},
     "output_type": "execute_result"
    }
   ],
   "source": [
    "data['quality'].value_counts()"
   ]
  },
  {
   "cell_type": "code",
   "execution_count": 17,
   "metadata": {},
   "outputs": [
    {
     "data": {
      "text/plain": [
       "<matplotlib.axes._subplots.AxesSubplot at 0x1feb8abfcc8>"
      ]
     },
     "execution_count": 17,
     "metadata": {},
     "output_type": "execute_result"
    },
    {
     "data": {
      "image/png": "[encoded data removed]",
      "text/plain": [
       "<Figure size 432x288 with 1 Axes>"
      ]
     },
     "metadata": {
      "needs_background": "light"
     },
     "output_type": "display_data"
    }
   ],
   "source": [
    "#Plotting the distribution of good to bad wines\n",
    "sns.countplot(data['quality'], palette=\"Set3\")"
   ]
  },
  {
   "cell_type": "code",
   "execution_count": 18,
   "metadata": {},
   "outputs": [
    {
     "data": {
      "text/plain": [
       "6.4"
      ]
     },
     "execution_count": 18,
     "metadata": {},
     "output_type": "execute_result"
    }
   ],
   "source": [
    "round(data['quality'].value_counts()[0] / data['quality'].value_counts()[1], 1)"
   ]
  },
  {
   "cell_type": "markdown",
   "metadata": {},
   "source": [
    "With a ratio of **1: 6.4** a certain degree of class imbalance can be attested. We will now use the logistic regression model to explore the effects of this imbalance."
   ]
  },
  {
   "cell_type": "markdown",
   "metadata": {},
   "source": [
    "# Section IV: Testing the impact of imbalanced data"
   ]
  },
  {
   "cell_type": "code",
   "execution_count": 19,
   "metadata": {},
   "outputs": [],
   "source": [
    "#Seperate the data as target variable and feature variabes\n",
    "X = data.drop('quality', axis = 1)\n",
    "y = data['quality']"
   ]
  },
  {
   "cell_type": "code",
   "execution_count": 20,
   "metadata": {},
   "outputs": [],
   "source": [
    "#Applying Standard scaling\n",
    "sc = StandardScaler()\n",
    "X = sc.fit_transform(X)"
   ]
  },
  {
   "cell_type": "code",
   "execution_count": 21,
   "metadata": {},
   "outputs": [],
   "source": [
    "#Train and Test splitting\n",
    "X_train, X_test, y_train, y_test = train_test_split(X, y, test_size = 0.2, random_state = 42)"
   ]
  },
  {
   "cell_type": "code",
   "execution_count": 22,
   "metadata": {},
   "outputs": [],
   "source": [
    "#Logistic Regression\n",
    "from sklearn.linear_model import LogisticRegression\n",
    "\n",
    "lr = LogisticRegression()\n",
    "lr.fit(X_train, y_train)\n",
    "lr_predict = lr.predict(X_test)"
   ]
  },
  {
   "cell_type": "code",
   "execution_count": 23,
   "metadata": {},
   "outputs": [
    {
     "name": "stdout",
     "output_type": "stream",
     "text": [
      "              precision    recall  f1-score   support\n",
      "\n",
      "           0       0.89      0.97      0.92       273\n",
      "           1       0.59      0.28      0.38        47\n",
      "\n",
      "    accuracy                           0.87       320\n",
      "   macro avg       0.74      0.62      0.65       320\n",
      "weighted avg       0.84      0.87      0.84       320\n",
      "\n"
     ]
    }
   ],
   "source": [
    "#Model performance\n",
    "print(classification_report(y_test, lr_predict))"
   ]
  },
  {
   "cell_type": "markdown",
   "metadata": {},
   "source": [
    "Although the accuracy of the model is quite high with **0.87**, the f1-score for the good wine class is way to low with **0.38**. The accuracy score is heavily skewed because of the class imbalance."
   ]
  },
  {
   "cell_type": "markdown",
   "metadata": {},
   "source": [
    "# Section V: Combating class imbalance with the SMOTE algorithm\n",
    "To combat the class imbalance we could randomly downsample the bad wine class or randomly upsample the good wine class. In this notebook we will utilize the SMOTE algorithm (Synthetic Minority Oversampling Technique), which will synthesize new good wine entries."
   ]
  },
  {
   "cell_type": "code",
   "execution_count": 24,
   "metadata": {},
   "outputs": [],
   "source": [
    "from imblearn.over_sampling import SMOTE\n",
    "smote = SMOTE()"
   ]
  },
  {
   "cell_type": "code",
   "execution_count": 25,
   "metadata": {},
   "outputs": [],
   "source": [
    "X_train_smote, y_train_smote = smote.fit_sample(X_train, y_train)"
   ]
  },
  {
   "cell_type": "code",
   "execution_count": 26,
   "metadata": {},
   "outputs": [
    {
     "name": "stdout",
     "output_type": "stream",
     "text": [
      "Before SMOTE : Counter({0: 1109, 1: 170})\n",
      "After  SMOTE : Counter({0: 1109, 1: 1109})\n"
     ]
    }
   ],
   "source": [
    "from collections import Counter\n",
    "print(\"Before SMOTE :\" , Counter(y_train))\n",
    "print(\"After  SMOTE :\" , Counter(y_train_smote))"
   ]
  },
  {
   "cell_type": "code",
   "execution_count": 27,
   "metadata": {},
   "outputs": [],
   "source": [
    "lr.fit(X_train_smote, y_train_smote)\n",
    "lr_predict_smote = lr.predict(X_test)"
   ]
  },
  {
   "cell_type": "code",
   "execution_count": 28,
   "metadata": {},
   "outputs": [
    {
     "name": "stdout",
     "output_type": "stream",
     "text": [
      "\n",
      " Classification report before SMOTE (0: bad wine; 1: good wine) \n",
      "\n",
      "              precision    recall  f1-score   support\n",
      "\n",
      "           0       0.89      0.97      0.92       273\n",
      "           1       0.59      0.28      0.38        47\n",
      "\n",
      "    accuracy                           0.87       320\n",
      "   macro avg       0.74      0.62      0.65       320\n",
      "weighted avg       0.84      0.87      0.84       320\n",
      "\n",
      "\n",
      " Classification report after SMOTE (0: bad wine; 1: good wine) \n",
      "\n",
      "              precision    recall  f1-score   support\n",
      "\n",
      "           0       0.97      0.79      0.87       273\n",
      "           1       0.42      0.87      0.57        47\n",
      "\n",
      "    accuracy                           0.81       320\n",
      "   macro avg       0.70      0.83      0.72       320\n",
      "weighted avg       0.89      0.81      0.83       320\n",
      "\n"
     ]
    }
   ],
   "source": [
    "print(\"\\n Classification report before SMOTE (0: bad wine; 1: good wine) \\n\") \n",
    "print(classification_report(y_test, lr_predict))\n",
    "print(\"\\n Classification report after SMOTE (0: bad wine; 1: good wine) \\n\")\n",
    "print(classification_report(y_test, lr_predict_smote))"
   ]
  },
  {
   "cell_type": "markdown",
   "metadata": {},
   "source": [
    "Although the accuracy decreased by 6% the good wine f1-score saw an uptick by 20%. With that the reduced accuracy better reflects the real quality of the model.  "
   ]
  },
  {
   "cell_type": "markdown",
   "metadata": {},
   "source": [
    "### F1-Score Intermission\n",
    "\n",
    "To make the later comparison of the different prediction models easier and to reinforce my understanding of the underlying nature of the used metrics and their origin in the confusion matrix, i will define a little function to compute the precision, recall, f1-score and the accuracy score.  \n",
    "\n",
    "Definition: In statistical analysis of binary classification, the F1 score (also F-score or F-measure) is a measure of a test's accuracy. It considers both the precision p and the recall r of the test to compute the score: p is the number of correct positive results divided by the number of all positive results returned by the classifier, and r is the number of correct positive results divided by the number of all relevant samples (all samples that should have been identified as positive). The F1 score is the harmonic mean of the precision and recall, where an F1 score reaches its best value at 1 (perfect precision and recall). \n",
    "\n",
    "[[Source]](https://en.wikipedia.org/wiki/F1_score)"
   ]
  },
  {
   "cell_type": "code",
   "execution_count": 29,
   "metadata": {},
   "outputs": [
    {
     "name": "stdout",
     "output_type": "stream",
     "text": [
      "[[264   9]\n",
      " [ 34  13]]\n"
     ]
    }
   ],
   "source": [
    "#Showcase the confusion matrix for the initial logistic regression model\n",
    "lr_conf_matrix = confusion_matrix(y_test, lr_predict)\n",
    "print(lr_conf_matrix)"
   ]
  },
  {
   "cell_type": "code",
   "execution_count": 30,
   "metadata": {},
   "outputs": [],
   "source": [
    "#Defining a function, which computes the precision, recall, f1-score and accuracy score\n",
    "def model_stats (y_test, rg_predict):\n",
    "    #Import packages\n",
    "    from sklearn.metrics import confusion_matrix\n",
    "    import numpy as np\n",
    "    import statistics \n",
    "    \n",
    "    conf_matrix = confusion_matrix(y_test, rg_predict)\n",
    "    output = []\n",
    "    for i in range(len(lr_conf_matrix)):\n",
    "        #Precision\n",
    "        p = conf_matrix[i,i] / conf_matrix[:,i].sum()\n",
    "        output.append(p)\n",
    "        #Recall\n",
    "        r = conf_matrix[i,i] / conf_matrix[i].sum()\n",
    "        output.append(r)\n",
    "        #F1-score\n",
    "        f1_score = statistics.harmonic_mean([p,r])\n",
    "        output.append(f1_score)\n",
    "    \n",
    "    #Accuracy score\n",
    "    acc_score = np.trace(conf_matrix) / conf_matrix.sum()\n",
    "    output.append(acc_score)\n",
    "    \n",
    "    return output"
   ]
  },
  {
   "cell_type": "code",
   "execution_count": 31,
   "metadata": {},
   "outputs": [],
   "source": [
    "#Creating Dataframe for easier later comparison\n",
    "df = pd.DataFrame(model_stats(y_test, lr_predict), columns=['lg'], \n",
    "                  index = [\"Precision_0\",\"Recall_0\",\"F1_Score_0\",\"Precision_1\",\"Recall_1\",\"F1_Score_1\",\"Accuracy_Score\"])"
   ]
  },
  {
   "cell_type": "code",
   "execution_count": 32,
   "metadata": {},
   "outputs": [
    {
     "data": {
      "text/html": [
       "<div>\n",
       "<style scoped>\n",
       "    .dataframe tbody tr th:only-of-type {\n",
       "        vertical-align: middle;\n",
       "    }\n",
       "\n",
       "    .dataframe tbody tr th {\n",
       "        vertical-align: top;\n",
       "    }\n",
       "\n",
       "    .dataframe thead th {\n",
       "        text-align: right;\n",
       "    }\n",
       "</style>\n",
       "<table border=\"1\" class=\"dataframe\">\n",
       "  <thead>\n",
       "    <tr style=\"text-align: right;\">\n",
       "      <th></th>\n",
       "      <th>lg</th>\n",
       "      <th>lg_smote</th>\n",
       "    </tr>\n",
       "  </thead>\n",
       "  <tbody>\n",
       "    <tr>\n",
       "      <th>Precision_0</th>\n",
       "      <td>0.885906</td>\n",
       "      <td>0.973094</td>\n",
       "    </tr>\n",
       "    <tr>\n",
       "      <th>Recall_0</th>\n",
       "      <td>0.967033</td>\n",
       "      <td>0.794872</td>\n",
       "    </tr>\n",
       "    <tr>\n",
       "      <th>F1_Score_0</th>\n",
       "      <td>0.924694</td>\n",
       "      <td>0.875000</td>\n",
       "    </tr>\n",
       "    <tr>\n",
       "      <th>Precision_1</th>\n",
       "      <td>0.590909</td>\n",
       "      <td>0.422680</td>\n",
       "    </tr>\n",
       "    <tr>\n",
       "      <th>Recall_1</th>\n",
       "      <td>0.276596</td>\n",
       "      <td>0.872340</td>\n",
       "    </tr>\n",
       "    <tr>\n",
       "      <th>F1_Score_1</th>\n",
       "      <td>0.376812</td>\n",
       "      <td>0.569444</td>\n",
       "    </tr>\n",
       "    <tr>\n",
       "      <th>Accuracy_Score</th>\n",
       "      <td>0.865625</td>\n",
       "      <td>0.806250</td>\n",
       "    </tr>\n",
       "  </tbody>\n",
       "</table>\n",
       "</div>"
      ],
      "text/plain": [
       "                      lg  lg_smote\n",
       "Precision_0     0.885906  0.973094\n",
       "Recall_0        0.967033  0.794872\n",
       "F1_Score_0      0.924694  0.875000\n",
       "Precision_1     0.590909  0.422680\n",
       "Recall_1        0.276596  0.872340\n",
       "F1_Score_1      0.376812  0.569444\n",
       "Accuracy_Score  0.865625  0.806250"
      ]
     },
     "execution_count": 32,
     "metadata": {},
     "output_type": "execute_result"
    }
   ],
   "source": [
    "df['lg_smote'] = model_stats(y_test, lr_predict_smote)\n",
    "df"
   ]
  },
  {
   "cell_type": "markdown",
   "metadata": {},
   "source": [
    "# Section VI: Applying additional prediction models"
   ]
  },
  {
   "cell_type": "markdown",
   "metadata": {},
   "source": [
    "### Decision Tree Classifier"
   ]
  },
  {
   "cell_type": "code",
   "execution_count": 33,
   "metadata": {},
   "outputs": [],
   "source": [
    "#Decision Tree\n",
    "from sklearn.tree import DecisionTreeClassifier\n",
    "dt = DecisionTreeClassifier()\n",
    "dt.fit(X_train,y_train)\n",
    "dt_predict = dt.predict(X_test)\n",
    "\n",
    "#Decision Tree with Upsampled Data\n",
    "dt.fit(X_train_smote,y_train_smote)\n",
    "dt_predict_smote = dt.predict(X_test)\n",
    "\n",
    "#Extending Model Stats DataFrame\n",
    "df['dt'] = model_stats(y_test, dt_predict)\n",
    "df['dt_smote'] = model_stats(y_test, dt_predict_smote)"
   ]
  },
  {
   "cell_type": "code",
   "execution_count": 34,
   "metadata": {},
   "outputs": [
    {
     "name": "stdout",
     "output_type": "stream",
     "text": [
      "\n",
      " Classification report before SMOTE (0: bad wine; 1: good wine) \n",
      "\n",
      "              precision    recall  f1-score   support\n",
      "\n",
      "           0       0.93      0.94      0.93       273\n",
      "           1       0.63      0.57      0.60        47\n",
      "\n",
      "    accuracy                           0.89       320\n",
      "   macro avg       0.78      0.76      0.77       320\n",
      "weighted avg       0.88      0.89      0.89       320\n",
      "\n",
      "\n",
      " Classification report after SMOTE (0: bad wine; 1: good wine) \n",
      "\n",
      "              precision    recall  f1-score   support\n",
      "\n",
      "           0       0.94      0.89      0.92       273\n",
      "           1       0.52      0.68      0.59        47\n",
      "\n",
      "    accuracy                           0.86       320\n",
      "   macro avg       0.73      0.79      0.75       320\n",
      "weighted avg       0.88      0.86      0.87       320\n",
      "\n"
     ]
    }
   ],
   "source": [
    "print(\"\\n Classification report before SMOTE (0: bad wine; 1: good wine) \\n\") \n",
    "print(classification_report(y_test, dt_predict))\n",
    "print(\"\\n Classification report after SMOTE (0: bad wine; 1: good wine) \\n\")\n",
    "print(classification_report(y_test, dt_predict_smote))"
   ]
  },
  {
   "cell_type": "markdown",
   "metadata": {},
   "source": [
    "### Naive Bayes"
   ]
  },
  {
   "cell_type": "code",
   "execution_count": 35,
   "metadata": {},
   "outputs": [],
   "source": [
    "#NaiveBayes\n",
    "from sklearn.naive_bayes import GaussianNB\n",
    "nb = GaussianNB()\n",
    "nb.fit(X_train,y_train)\n",
    "nb_predict=nb.predict(X_test)\n",
    "\n",
    "#NaiveBayes with Upsampled Data\n",
    "nb.fit(X_train_smote,y_train_smote)\n",
    "nb_predict_smote = nb.predict(X_test)\n",
    "\n",
    "#Extending Model Stats DataFrame\n",
    "df['nb'] = model_stats(y_test, nb_predict)\n",
    "df['nb_smote'] = model_stats(y_test, nb_predict_smote)"
   ]
  },
  {
   "cell_type": "code",
   "execution_count": 36,
   "metadata": {},
   "outputs": [
    {
     "name": "stdout",
     "output_type": "stream",
     "text": [
      "\n",
      " Classification report before SMOTE (0: bad wine; 1: good wine) \n",
      "\n",
      "              precision    recall  f1-score   support\n",
      "\n",
      "           0       0.96      0.86      0.91       273\n",
      "           1       0.49      0.79      0.60        47\n",
      "\n",
      "    accuracy                           0.85       320\n",
      "   macro avg       0.72      0.82      0.75       320\n",
      "weighted avg       0.89      0.85      0.86       320\n",
      "\n",
      "\n",
      " Classification report after SMOTE (0: bad wine; 1: good wine) \n",
      "\n",
      "              precision    recall  f1-score   support\n",
      "\n",
      "           0       0.97      0.71      0.82       273\n",
      "           1       0.34      0.87      0.49        47\n",
      "\n",
      "    accuracy                           0.73       320\n",
      "   macro avg       0.66      0.79      0.66       320\n",
      "weighted avg       0.88      0.73      0.77       320\n",
      "\n"
     ]
    }
   ],
   "source": [
    "print(\"\\n Classification report before SMOTE (0: bad wine; 1: good wine) \\n\") \n",
    "print(classification_report(y_test, nb_predict))\n",
    "print(\"\\n Classification report after SMOTE (0: bad wine; 1: good wine) \\n\")\n",
    "print(classification_report(y_test, nb_predict_smote))"
   ]
  },
  {
   "cell_type": "markdown",
   "metadata": {},
   "source": [
    "### Random Forest Classifier"
   ]
  },
  {
   "cell_type": "code",
   "execution_count": 37,
   "metadata": {},
   "outputs": [],
   "source": [
    "#RandomForest classifier\n",
    "from sklearn.ensemble import RandomForestClassifier\n",
    "rf = RandomForestClassifier()\n",
    "rf.fit(X_train, y_train)\n",
    "rf_predict=rf.predict(X_test)\n",
    "\n",
    "#RandomForest classifier with Upsampled Data\n",
    "rf.fit(X_train_smote, y_train_smote)\n",
    "rf_predict_smote=rf.predict(X_test)\n",
    "\n",
    "#Extending Model Stats DataFrame\n",
    "df['rf'] = model_stats(y_test, rf_predict)\n",
    "df['rf_smote'] = model_stats(y_test, rf_predict_smote)"
   ]
  },
  {
   "cell_type": "code",
   "execution_count": 38,
   "metadata": {},
   "outputs": [
    {
     "name": "stdout",
     "output_type": "stream",
     "text": [
      "\n",
      " Classification report before SMOTE (0: bad wine; 1: good wine) \n",
      "\n",
      "              precision    recall  f1-score   support\n",
      "\n",
      "           0       0.92      0.96      0.94       273\n",
      "           1       0.70      0.49      0.57        47\n",
      "\n",
      "    accuracy                           0.89       320\n",
      "   macro avg       0.81      0.73      0.76       320\n",
      "weighted avg       0.88      0.89      0.89       320\n",
      "\n",
      "\n",
      " Classification report after SMOTE (0: bad wine; 1: good wine) \n",
      "\n",
      "              precision    recall  f1-score   support\n",
      "\n",
      "           0       0.96      0.94      0.95       273\n",
      "           1       0.68      0.77      0.72        47\n",
      "\n",
      "    accuracy                           0.91       320\n",
      "   macro avg       0.82      0.85      0.83       320\n",
      "weighted avg       0.92      0.91      0.91       320\n",
      "\n"
     ]
    }
   ],
   "source": [
    "print(\"\\n Classification report before SMOTE (0: bad wine; 1: good wine) \\n\") \n",
    "print(classification_report(y_test, rf_predict))\n",
    "print(\"\\n Classification report after SMOTE (0: bad wine; 1: good wine) \\n\")\n",
    "print(classification_report(y_test, rf_predict_smote))"
   ]
  },
  {
   "cell_type": "markdown",
   "metadata": {},
   "source": [
    "### SVM Classifier with rbf kernel"
   ]
  },
  {
   "cell_type": "code",
   "execution_count": 39,
   "metadata": {},
   "outputs": [],
   "source": [
    "#SVM Classifier with rbf kernel\n",
    "from sklearn.svm import SVC\n",
    "svc_rbf = SVC()\n",
    "svc_rbf.fit(X_train, y_train)\n",
    "svc_rbf_predict=svc_rbf.predict(X_test)\n",
    "\n",
    "#RSVM Classifier with Upsampled Data\n",
    "svc_rbf.fit(X_train_smote, y_train_smote)\n",
    "svc_rbf_predict_smote=svc_rbf.predict(X_test)\n",
    "\n",
    "#Extending Model Stats DataFrame\n",
    "df['svc_rbf'] = model_stats(y_test, svc_rbf_predict)\n",
    "df['svc_rbf_smote'] = model_stats(y_test, svc_rbf_predict_smote)"
   ]
  },
  {
   "cell_type": "code",
   "execution_count": 40,
   "metadata": {},
   "outputs": [
    {
     "name": "stdout",
     "output_type": "stream",
     "text": [
      "\n",
      " Classification report before SMOTE (0: bad wine; 1: good wine) \n",
      "\n",
      "              precision    recall  f1-score   support\n",
      "\n",
      "           0       0.88      0.98      0.93       273\n",
      "           1       0.71      0.26      0.37        47\n",
      "\n",
      "    accuracy                           0.88       320\n",
      "   macro avg       0.80      0.62      0.65       320\n",
      "weighted avg       0.86      0.88      0.85       320\n",
      "\n",
      "\n",
      " Classification report after SMOTE (0: bad wine; 1: good wine) \n",
      "\n",
      "              precision    recall  f1-score   support\n",
      "\n",
      "           0       0.98      0.84      0.90       273\n",
      "           1       0.49      0.89      0.63        47\n",
      "\n",
      "    accuracy                           0.85       320\n",
      "   macro avg       0.73      0.87      0.77       320\n",
      "weighted avg       0.91      0.85      0.86       320\n",
      "\n"
     ]
    }
   ],
   "source": [
    "print(\"\\n Classification report before SMOTE (0: bad wine; 1: good wine) \\n\") \n",
    "print(classification_report(y_test, svc_rbf_predict))\n",
    "print(\"\\n Classification report after SMOTE (0: bad wine; 1: good wine) \\n\")\n",
    "print(classification_report(y_test, svc_rbf_predict_smote))"
   ]
  },
  {
   "cell_type": "markdown",
   "metadata": {},
   "source": [
    "# Section VII: Comparing the model performances and final thoughts"
   ]
  },
  {
   "cell_type": "code",
   "execution_count": 41,
   "metadata": {},
   "outputs": [
    {
     "data": {
      "text/html": [
       "<div>\n",
       "<style scoped>\n",
       "    .dataframe tbody tr th:only-of-type {\n",
       "        vertical-align: middle;\n",
       "    }\n",
       "\n",
       "    .dataframe tbody tr th {\n",
       "        vertical-align: top;\n",
       "    }\n",
       "\n",
       "    .dataframe thead th {\n",
       "        text-align: right;\n",
       "    }\n",
       "</style>\n",
       "<table border=\"1\" class=\"dataframe\">\n",
       "  <thead>\n",
       "    <tr style=\"text-align: right;\">\n",
       "      <th></th>\n",
       "      <th>lg</th>\n",
       "      <th>lg_smote</th>\n",
       "      <th>dt</th>\n",
       "      <th>dt_smote</th>\n",
       "      <th>nb</th>\n",
       "      <th>nb_smote</th>\n",
       "      <th>rf</th>\n",
       "      <th>rf_smote</th>\n",
       "      <th>svc_rbf</th>\n",
       "      <th>svc_rbf_smote</th>\n",
       "    </tr>\n",
       "  </thead>\n",
       "  <tbody>\n",
       "    <tr>\n",
       "      <th>Precision_0</th>\n",
       "      <td>0.89</td>\n",
       "      <td>0.97</td>\n",
       "      <td>0.93</td>\n",
       "      <td>0.94</td>\n",
       "      <td>0.96</td>\n",
       "      <td>0.97</td>\n",
       "      <td>0.92</td>\n",
       "      <td>0.96</td>\n",
       "      <td>0.88</td>\n",
       "      <td>0.98</td>\n",
       "    </tr>\n",
       "    <tr>\n",
       "      <th>Recall_0</th>\n",
       "      <td>0.97</td>\n",
       "      <td>0.79</td>\n",
       "      <td>0.94</td>\n",
       "      <td>0.89</td>\n",
       "      <td>0.86</td>\n",
       "      <td>0.71</td>\n",
       "      <td>0.96</td>\n",
       "      <td>0.94</td>\n",
       "      <td>0.98</td>\n",
       "      <td>0.84</td>\n",
       "    </tr>\n",
       "    <tr>\n",
       "      <th>F1_Score_0</th>\n",
       "      <td>0.92</td>\n",
       "      <td>0.88</td>\n",
       "      <td>0.93</td>\n",
       "      <td>0.92</td>\n",
       "      <td>0.91</td>\n",
       "      <td>0.82</td>\n",
       "      <td>0.94</td>\n",
       "      <td>0.95</td>\n",
       "      <td>0.93</td>\n",
       "      <td>0.90</td>\n",
       "    </tr>\n",
       "    <tr>\n",
       "      <th>Precision_1</th>\n",
       "      <td>0.59</td>\n",
       "      <td>0.42</td>\n",
       "      <td>0.63</td>\n",
       "      <td>0.52</td>\n",
       "      <td>0.49</td>\n",
       "      <td>0.34</td>\n",
       "      <td>0.70</td>\n",
       "      <td>0.68</td>\n",
       "      <td>0.71</td>\n",
       "      <td>0.49</td>\n",
       "    </tr>\n",
       "    <tr>\n",
       "      <th>Recall_1</th>\n",
       "      <td>0.28</td>\n",
       "      <td>0.87</td>\n",
       "      <td>0.57</td>\n",
       "      <td>0.68</td>\n",
       "      <td>0.79</td>\n",
       "      <td>0.87</td>\n",
       "      <td>0.49</td>\n",
       "      <td>0.77</td>\n",
       "      <td>0.26</td>\n",
       "      <td>0.89</td>\n",
       "    </tr>\n",
       "    <tr>\n",
       "      <th>F1_Score_1</th>\n",
       "      <td>0.38</td>\n",
       "      <td>0.57</td>\n",
       "      <td>0.60</td>\n",
       "      <td>0.59</td>\n",
       "      <td>0.60</td>\n",
       "      <td>0.49</td>\n",
       "      <td>0.57</td>\n",
       "      <td>0.72</td>\n",
       "      <td>0.38</td>\n",
       "      <td>0.63</td>\n",
       "    </tr>\n",
       "    <tr>\n",
       "      <th>Accuracy_Score</th>\n",
       "      <td>0.87</td>\n",
       "      <td>0.81</td>\n",
       "      <td>0.89</td>\n",
       "      <td>0.86</td>\n",
       "      <td>0.85</td>\n",
       "      <td>0.73</td>\n",
       "      <td>0.89</td>\n",
       "      <td>0.91</td>\n",
       "      <td>0.88</td>\n",
       "      <td>0.85</td>\n",
       "    </tr>\n",
       "  </tbody>\n",
       "</table>\n",
       "</div>"
      ],
      "text/plain": [
       "                  lg  lg_smote    dt  dt_smote    nb  nb_smote    rf  \\\n",
       "Precision_0     0.89      0.97  0.93      0.94  0.96      0.97  0.92   \n",
       "Recall_0        0.97      0.79  0.94      0.89  0.86      0.71  0.96   \n",
       "F1_Score_0      0.92      0.88  0.93      0.92  0.91      0.82  0.94   \n",
       "Precision_1     0.59      0.42  0.63      0.52  0.49      0.34  0.70   \n",
       "Recall_1        0.28      0.87  0.57      0.68  0.79      0.87  0.49   \n",
       "F1_Score_1      0.38      0.57  0.60      0.59  0.60      0.49  0.57   \n",
       "Accuracy_Score  0.87      0.81  0.89      0.86  0.85      0.73  0.89   \n",
       "\n",
       "                rf_smote  svc_rbf  svc_rbf_smote  \n",
       "Precision_0         0.96     0.88           0.98  \n",
       "Recall_0            0.94     0.98           0.84  \n",
       "F1_Score_0          0.95     0.93           0.90  \n",
       "Precision_1         0.68     0.71           0.49  \n",
       "Recall_1            0.77     0.26           0.89  \n",
       "F1_Score_1          0.72     0.38           0.63  \n",
       "Accuracy_Score      0.91     0.88           0.85  "
      ]
     },
     "execution_count": 41,
     "metadata": {},
     "output_type": "execute_result"
    }
   ],
   "source": [
    "#Showcase the collected data from all prediction models\n",
    "round(df,2)"
   ]
  },
  {
   "cell_type": "code",
   "execution_count": 42,
   "metadata": {},
   "outputs": [],
   "source": [
    "#Reducing the collected data for a better overview\n",
    "df_highlight = df.drop(['Precision_0', 'Recall_0', 'Precision_1', 'Recall_1'])"
   ]
  },
  {
   "cell_type": "code",
   "execution_count": 43,
   "metadata": {},
   "outputs": [
    {
     "data": {
      "text/html": [
       "<style  type=\"text/css\" >\n",
       "    #T_47862b62_cb4a_11ea_919e_1c7508fa14f3row0_col7 {\n",
       "            background-color:  yellow;\n",
       "        }    #T_47862b62_cb4a_11ea_919e_1c7508fa14f3row1_col7 {\n",
       "            background-color:  yellow;\n",
       "        }    #T_47862b62_cb4a_11ea_919e_1c7508fa14f3row2_col7 {\n",
       "            background-color:  yellow;\n",
       "        }</style><table id=\"T_47862b62_cb4a_11ea_919e_1c7508fa14f3\" ><thead>    <tr>        <th class=\"blank level0\" ></th>        <th class=\"col_heading level0 col0\" >lg</th>        <th class=\"col_heading level0 col1\" >lg_smote</th>        <th class=\"col_heading level0 col2\" >dt</th>        <th class=\"col_heading level0 col3\" >dt_smote</th>        <th class=\"col_heading level0 col4\" >nb</th>        <th class=\"col_heading level0 col5\" >nb_smote</th>        <th class=\"col_heading level0 col6\" >rf</th>        <th class=\"col_heading level0 col7\" >rf_smote</th>        <th class=\"col_heading level0 col8\" >svc_rbf</th>        <th class=\"col_heading level0 col9\" >svc_rbf_smote</th>    </tr></thead><tbody>\n",
       "                <tr>\n",
       "                        <th id=\"T_47862b62_cb4a_11ea_919e_1c7508fa14f3level0_row0\" class=\"row_heading level0 row0\" >F1_Score_0</th>\n",
       "                        <td id=\"T_47862b62_cb4a_11ea_919e_1c7508fa14f3row0_col0\" class=\"data row0 col0\" >0.924694</td>\n",
       "                        <td id=\"T_47862b62_cb4a_11ea_919e_1c7508fa14f3row0_col1\" class=\"data row0 col1\" >0.875000</td>\n",
       "                        <td id=\"T_47862b62_cb4a_11ea_919e_1c7508fa14f3row0_col2\" class=\"data row0 col2\" >0.934545</td>\n",
       "                        <td id=\"T_47862b62_cb4a_11ea_919e_1c7508fa14f3row0_col3\" class=\"data row0 col3\" >0.915254</td>\n",
       "                        <td id=\"T_47862b62_cb4a_11ea_919e_1c7508fa14f3row0_col4\" class=\"data row0 col4\" >0.905222</td>\n",
       "                        <td id=\"T_47862b62_cb4a_11ea_919e_1c7508fa14f3row0_col5\" class=\"data row0 col5\" >0.820296</td>\n",
       "                        <td id=\"T_47862b62_cb4a_11ea_919e_1c7508fa14f3row0_col6\" class=\"data row0 col6\" >0.939286</td>\n",
       "                        <td id=\"T_47862b62_cb4a_11ea_919e_1c7508fa14f3row0_col7\" class=\"data row0 col7\" >0.948148</td>\n",
       "                        <td id=\"T_47862b62_cb4a_11ea_919e_1c7508fa14f3row0_col8\" class=\"data row0 col8\" >0.930556</td>\n",
       "                        <td id=\"T_47862b62_cb4a_11ea_919e_1c7508fa14f3row0_col9\" class=\"data row0 col9\" >0.903353</td>\n",
       "            </tr>\n",
       "            <tr>\n",
       "                        <th id=\"T_47862b62_cb4a_11ea_919e_1c7508fa14f3level0_row1\" class=\"row_heading level0 row1\" >F1_Score_1</th>\n",
       "                        <td id=\"T_47862b62_cb4a_11ea_919e_1c7508fa14f3row1_col0\" class=\"data row1 col0\" >0.376812</td>\n",
       "                        <td id=\"T_47862b62_cb4a_11ea_919e_1c7508fa14f3row1_col1\" class=\"data row1 col1\" >0.569444</td>\n",
       "                        <td id=\"T_47862b62_cb4a_11ea_919e_1c7508fa14f3row1_col2\" class=\"data row1 col2\" >0.600000</td>\n",
       "                        <td id=\"T_47862b62_cb4a_11ea_919e_1c7508fa14f3row1_col3\" class=\"data row1 col3\" >0.587156</td>\n",
       "                        <td id=\"T_47862b62_cb4a_11ea_919e_1c7508fa14f3row1_col4\" class=\"data row1 col4\" >0.601626</td>\n",
       "                        <td id=\"T_47862b62_cb4a_11ea_919e_1c7508fa14f3row1_col5\" class=\"data row1 col5\" >0.491018</td>\n",
       "                        <td id=\"T_47862b62_cb4a_11ea_919e_1c7508fa14f3row1_col6\" class=\"data row1 col6\" >0.575000</td>\n",
       "                        <td id=\"T_47862b62_cb4a_11ea_919e_1c7508fa14f3row1_col7\" class=\"data row1 col7\" >0.720000</td>\n",
       "                        <td id=\"T_47862b62_cb4a_11ea_919e_1c7508fa14f3row1_col8\" class=\"data row1 col8\" >0.375000</td>\n",
       "                        <td id=\"T_47862b62_cb4a_11ea_919e_1c7508fa14f3row1_col9\" class=\"data row1 col9\" >0.631579</td>\n",
       "            </tr>\n",
       "            <tr>\n",
       "                        <th id=\"T_47862b62_cb4a_11ea_919e_1c7508fa14f3level0_row2\" class=\"row_heading level0 row2\" >Accuracy_Score</th>\n",
       "                        <td id=\"T_47862b62_cb4a_11ea_919e_1c7508fa14f3row2_col0\" class=\"data row2 col0\" >0.865625</td>\n",
       "                        <td id=\"T_47862b62_cb4a_11ea_919e_1c7508fa14f3row2_col1\" class=\"data row2 col1\" >0.806250</td>\n",
       "                        <td id=\"T_47862b62_cb4a_11ea_919e_1c7508fa14f3row2_col2\" class=\"data row2 col2\" >0.887500</td>\n",
       "                        <td id=\"T_47862b62_cb4a_11ea_919e_1c7508fa14f3row2_col3\" class=\"data row2 col3\" >0.859375</td>\n",
       "                        <td id=\"T_47862b62_cb4a_11ea_919e_1c7508fa14f3row2_col4\" class=\"data row2 col4\" >0.846875</td>\n",
       "                        <td id=\"T_47862b62_cb4a_11ea_919e_1c7508fa14f3row2_col5\" class=\"data row2 col5\" >0.734375</td>\n",
       "                        <td id=\"T_47862b62_cb4a_11ea_919e_1c7508fa14f3row2_col6\" class=\"data row2 col6\" >0.893750</td>\n",
       "                        <td id=\"T_47862b62_cb4a_11ea_919e_1c7508fa14f3row2_col7\" class=\"data row2 col7\" >0.912500</td>\n",
       "                        <td id=\"T_47862b62_cb4a_11ea_919e_1c7508fa14f3row2_col8\" class=\"data row2 col8\" >0.875000</td>\n",
       "                        <td id=\"T_47862b62_cb4a_11ea_919e_1c7508fa14f3row2_col9\" class=\"data row2 col9\" >0.846875</td>\n",
       "            </tr>\n",
       "    </tbody></table>"
      ],
      "text/plain": [
       "<pandas.io.formats.style.Styler at 0x1feba088608>"
      ]
     },
     "execution_count": 43,
     "metadata": {},
     "output_type": "execute_result"
    }
   ],
   "source": [
    "df_highlight.style.highlight_max(axis=1)"
   ]
  },
  {
   "cell_type": "markdown",
   "metadata": {},
   "source": [
    "### Findings :\n",
    " - Alcohol content has the strongest positive impact on the perceived quality of a wine. The volatile acidity has the strongest negative impact. The dataset itself, however,  does not allow for a conclusive statement in this regard.\n",
    " - Interestingly enough, synthesizing new good wine data points almost always increased the corresponding f1-score. Only in case of the naive bayes algorithm could a decrease in the f1-score be observed.\n",
    " - The random forest classifier with synthesized upsampled data returns the best results for predicting whether a wine is a good tasting one or not and therefore should be prioritized.\n",
    " \n",
    "### Further investigation ideas:\n",
    " - Introducing additional prediction models and adding them to our comparison data frame.\n",
    " - Analyzing outliers in the dataset and the effect of their removal on the models prediction accuracy.\n",
    " - Reducing the number of features corresponding to the insights gained from the correlation matrix.\n",
    " - Applying a principal component analysis and investigating if a component reduction improves the performance of the prediction models or if the loss in information would strongly impact our ability in predicting a good wine.  "
   ]
  }
 ],
 "metadata": {
  "kernelspec": {
   "display_name": "Python 3",
   "language": "python",
   "name": "python3"
  },
  "language_info": {
   "codemirror_mode": {
    "name": "ipython",
    "version": 3
   },
   "file_extension": ".py",
   "mimetype": "text/x-python",
   "name": "python",
   "nbconvert_exporter": "python",
   "pygments_lexer": "ipython3",
   "version": "3.7.7"
  }
 },
 "nbformat": 4,
 "nbformat_minor": 4
}
