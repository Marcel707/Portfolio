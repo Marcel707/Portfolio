{
 "cells": [
  {
   "cell_type": "markdown",
   "metadata": {},
   "source": [
    "# Motivation"
   ]
  },
  {
   "cell_type": "markdown",
   "metadata": {},
   "source": [
    "Goal Data Exploration. Showcase usage of different regression models to predict wine quality. Methods to improve accuracy of models"
   ]
  },
  {
   "cell_type": "markdown",
   "metadata": {},
   "source": [
    "**Regression Models**:  Logistic Regression, ..., ... <br>\n",
    "**Improving Accuracy**: Upsampling with SMOTE"
   ]
  },
  {
   "cell_type": "markdown",
   "metadata": {},
   "source": [
    "<p align=\"center\">\n",
    "  <img src=\"Images/wine.jpg\" width=\"600\">"
   ]
  },
  {
   "cell_type": "markdown",
   "metadata": {},
   "source": [
    "# Section I: Problem Understanding"
   ]
  },
  {
   "cell_type": "markdown",
   "metadata": {},
   "source": [
    "### General Information\n",
    "The data set contains 1599 red vinho verde wine taste testing results.\n",
    "Each sample was evaluated by a minimum of three sensory assessors\n",
    "(using blind tastes), which graded the wine in a scale that ranges from\n",
    "0 (very bad) to 10 (excellent). The final sensory score is given by the\n",
    "median of these evaluations [[Cortez et al., 2009, p. 2]](https://www.sciencedirect.com/science/article/pii/S0167923609001377?via%3Dihub)."
   ]
  },
  {
   "cell_type": "markdown",
   "metadata": {},
   "source": [
    "### Feature information \n",
    "\n",
    "| Feature | Unit | Description |\n",
    "|:-|:-|:-|\n",
    "| **fixed acidity** | g/dm³ | Fixed acidity is a measurement of the total concentration of titratable acids and free hydrogen ions.  These acids either occur naturally or are created through the fermentation process. Citric acid also falls under this category.|\n",
    "| **volatile acidity** | g/dm³ | The amount of volatile acidity defines the spoilage of a wine. Some winemakers however seek a low level of this kind of acidity, to add to the perceived complexity of a wine. |\n",
    "| **citric acid** | g/dm³ | Citric acids are generally found in very small quantities. They act as a preservative, are added to increase acidity or to attain a unique flavor. |\n",
    "| **residual sugar** | g/dm³ | Residual Sugar describes the natural grape sugar, which is leftover after the fermentation has ended. During winemaking, yeast normally converts all sugar into alcohol, however, sometimes not all the sugar is fermented. The path to a remarkable wine is to find the perfect balance between sweetness and sourness. |\n",
    "| **chlorides** | g/dm³ | Chlorides can give a wine a certain “salty taste”. Although not necessarily desirable, the right amount can give the wine an additional nuance. |\n",
    "| **free sulfur dioxide** | mg/dm³ | Free sulfur dioxide is a measure of the amount of SO2 that is not bound to other molecules. Used throughout all stages of the winemaking process, it serves to prevent oxidation and microbial growth. |\n",
    "| **total sulfur dioxide** | mg/dm³ | Total Sulfur Dioxide is the portion of SO2 that is free in the wine plus the portion that is bound to other chemicals. |\n",
    "| **density** | g/cm³ | Monitoring the density during the fermentation allows for optimal control of the sugar conversion process into ethanol. Sweeter wines generally have a higher density. |\n",
    "| **pH** | - | Winemakers are aiming for high pH levels, as high as 4.0. This makes wines taste softer. |\n",
    "| **sulphates** | g/dm³ | An increase in sulphates might be related to the fermenting nutrition, which is very important to improve the wine aroma. |\n",
    "| **alcohol** | vol.% | Although not unique to solely wine, alcohol is probably on of the main reasons, why mankind has enjoyed the taste of wine for millennia. |"
   ]
  },
  {
   "cell_type": "markdown",
   "metadata": {},
   "source": [
    "Deducting from the information above, we can conclude some correlations, which one would expect to occur. Testing these can be a good way to see, how firm our understanding of the data is.\n",
    "\n",
    "| feature pair | correlation |\n",
    "|:-:|:-:|\n",
    "| fixed acidity, pH | **-** |\n",
    "| fixed acidity, citric acid | **+** |\n",
    "| volatile acidity, quality | **-** |\n",
    "| residual sugar, density | **+** |\n",
    "| free sulfur dioxide, total sulfur dioxide | **+** |\n",
    "| density, alcohol | **-** |"
   ]
  },
  {
   "cell_type": "markdown",
   "metadata": {},
   "source": [
    " ### Citation\n",
    " The used dataset is public available for research. The details are described in [[Cortez et al., 2009]](https://www.sciencedirect.com/science/article/pii/S0167923609001377?via%3Dihub). The Dataset can be downloaded from the UCI Machine Learning Repository [[Source]](https://archive.ics.uci.edu/ml/datasets/wine+quality)\n",
    " <p>\n",
    "  P. Cortez, A. Cerdeira, F. Almeida, T. Matos and J. Reis. Modeling wine preferences by data mining from physicochemical properties. In Decision Support Systems, Elsevier, 47(4):547-553. ISSN: 0167-9236.  <br>"
   ]
  },
  {
   "cell_type": "markdown",
   "metadata": {},
   "source": [
    "# Section II: Data Exploration"
   ]
  },
  {
   "cell_type": "code",
   "execution_count": 1,
   "metadata": {},
   "outputs": [],
   "source": [
    "#Importing packages\n",
    "import pandas as pd\n",
    "import seaborn as sns\n",
    "import matplotlib.pyplot as plt"
   ]
  },
  {
   "cell_type": "code",
   "execution_count": 2,
   "metadata": {},
   "outputs": [],
   "source": [
    "#Importing data\n",
    "data = pd.read_csv('Data/winequality-red.csv', sep=';')"
   ]
  },
  {
   "cell_type": "code",
   "execution_count": 3,
   "metadata": {},
   "outputs": [
    {
     "data": {
      "text/html": [
       "<div>\n",
       "<style scoped>\n",
       "    .dataframe tbody tr th:only-of-type {\n",
       "        vertical-align: middle;\n",
       "    }\n",
       "\n",
       "    .dataframe tbody tr th {\n",
       "        vertical-align: top;\n",
       "    }\n",
       "\n",
       "    .dataframe thead th {\n",
       "        text-align: right;\n",
       "    }\n",
       "</style>\n",
       "<table border=\"1\" class=\"dataframe\">\n",
       "  <thead>\n",
       "    <tr style=\"text-align: right;\">\n",
       "      <th></th>\n",
       "      <th>fixed acidity</th>\n",
       "      <th>volatile acidity</th>\n",
       "      <th>citric acid</th>\n",
       "      <th>residual sugar</th>\n",
       "      <th>chlorides</th>\n",
       "      <th>free sulfur dioxide</th>\n",
       "      <th>total sulfur dioxide</th>\n",
       "      <th>density</th>\n",
       "      <th>pH</th>\n",
       "      <th>sulphates</th>\n",
       "      <th>alcohol</th>\n",
       "      <th>quality</th>\n",
       "    </tr>\n",
       "  </thead>\n",
       "  <tbody>\n",
       "    <tr>\n",
       "      <th>count</th>\n",
       "      <td>1599.000000</td>\n",
       "      <td>1599.000000</td>\n",
       "      <td>1599.000000</td>\n",
       "      <td>1599.000000</td>\n",
       "      <td>1599.000000</td>\n",
       "      <td>1599.000000</td>\n",
       "      <td>1599.000000</td>\n",
       "      <td>1599.000000</td>\n",
       "      <td>1599.000000</td>\n",
       "      <td>1599.000000</td>\n",
       "      <td>1599.000000</td>\n",
       "      <td>1599.000000</td>\n",
       "    </tr>\n",
       "    <tr>\n",
       "      <th>mean</th>\n",
       "      <td>8.319637</td>\n",
       "      <td>0.527821</td>\n",
       "      <td>0.270976</td>\n",
       "      <td>2.538806</td>\n",
       "      <td>0.087467</td>\n",
       "      <td>15.874922</td>\n",
       "      <td>46.467792</td>\n",
       "      <td>0.996747</td>\n",
       "      <td>3.311113</td>\n",
       "      <td>0.658149</td>\n",
       "      <td>10.422983</td>\n",
       "      <td>5.636023</td>\n",
       "    </tr>\n",
       "    <tr>\n",
       "      <th>std</th>\n",
       "      <td>1.741096</td>\n",
       "      <td>0.179060</td>\n",
       "      <td>0.194801</td>\n",
       "      <td>1.409928</td>\n",
       "      <td>0.047065</td>\n",
       "      <td>10.460157</td>\n",
       "      <td>32.895324</td>\n",
       "      <td>0.001887</td>\n",
       "      <td>0.154386</td>\n",
       "      <td>0.169507</td>\n",
       "      <td>1.065668</td>\n",
       "      <td>0.807569</td>\n",
       "    </tr>\n",
       "    <tr>\n",
       "      <th>min</th>\n",
       "      <td>4.600000</td>\n",
       "      <td>0.120000</td>\n",
       "      <td>0.000000</td>\n",
       "      <td>0.900000</td>\n",
       "      <td>0.012000</td>\n",
       "      <td>1.000000</td>\n",
       "      <td>6.000000</td>\n",
       "      <td>0.990070</td>\n",
       "      <td>2.740000</td>\n",
       "      <td>0.330000</td>\n",
       "      <td>8.400000</td>\n",
       "      <td>3.000000</td>\n",
       "    </tr>\n",
       "    <tr>\n",
       "      <th>25%</th>\n",
       "      <td>7.100000</td>\n",
       "      <td>0.390000</td>\n",
       "      <td>0.090000</td>\n",
       "      <td>1.900000</td>\n",
       "      <td>0.070000</td>\n",
       "      <td>7.000000</td>\n",
       "      <td>22.000000</td>\n",
       "      <td>0.995600</td>\n",
       "      <td>3.210000</td>\n",
       "      <td>0.550000</td>\n",
       "      <td>9.500000</td>\n",
       "      <td>5.000000</td>\n",
       "    </tr>\n",
       "    <tr>\n",
       "      <th>50%</th>\n",
       "      <td>7.900000</td>\n",
       "      <td>0.520000</td>\n",
       "      <td>0.260000</td>\n",
       "      <td>2.200000</td>\n",
       "      <td>0.079000</td>\n",
       "      <td>14.000000</td>\n",
       "      <td>38.000000</td>\n",
       "      <td>0.996750</td>\n",
       "      <td>3.310000</td>\n",
       "      <td>0.620000</td>\n",
       "      <td>10.200000</td>\n",
       "      <td>6.000000</td>\n",
       "    </tr>\n",
       "    <tr>\n",
       "      <th>75%</th>\n",
       "      <td>9.200000</td>\n",
       "      <td>0.640000</td>\n",
       "      <td>0.420000</td>\n",
       "      <td>2.600000</td>\n",
       "      <td>0.090000</td>\n",
       "      <td>21.000000</td>\n",
       "      <td>62.000000</td>\n",
       "      <td>0.997835</td>\n",
       "      <td>3.400000</td>\n",
       "      <td>0.730000</td>\n",
       "      <td>11.100000</td>\n",
       "      <td>6.000000</td>\n",
       "    </tr>\n",
       "    <tr>\n",
       "      <th>max</th>\n",
       "      <td>15.900000</td>\n",
       "      <td>1.580000</td>\n",
       "      <td>1.000000</td>\n",
       "      <td>15.500000</td>\n",
       "      <td>0.611000</td>\n",
       "      <td>72.000000</td>\n",
       "      <td>289.000000</td>\n",
       "      <td>1.003690</td>\n",
       "      <td>4.010000</td>\n",
       "      <td>2.000000</td>\n",
       "      <td>14.900000</td>\n",
       "      <td>8.000000</td>\n",
       "    </tr>\n",
       "  </tbody>\n",
       "</table>\n",
       "</div>"
      ],
      "text/plain": [
       "       fixed acidity  volatile acidity  citric acid  residual sugar  \\\n",
       "count    1599.000000       1599.000000  1599.000000     1599.000000   \n",
       "mean        8.319637          0.527821     0.270976        2.538806   \n",
       "std         1.741096          0.179060     0.194801        1.409928   \n",
       "min         4.600000          0.120000     0.000000        0.900000   \n",
       "25%         7.100000          0.390000     0.090000        1.900000   \n",
       "50%         7.900000          0.520000     0.260000        2.200000   \n",
       "75%         9.200000          0.640000     0.420000        2.600000   \n",
       "max        15.900000          1.580000     1.000000       15.500000   \n",
       "\n",
       "         chlorides  free sulfur dioxide  total sulfur dioxide      density  \\\n",
       "count  1599.000000          1599.000000           1599.000000  1599.000000   \n",
       "mean      0.087467            15.874922             46.467792     0.996747   \n",
       "std       0.047065            10.460157             32.895324     0.001887   \n",
       "min       0.012000             1.000000              6.000000     0.990070   \n",
       "25%       0.070000             7.000000             22.000000     0.995600   \n",
       "50%       0.079000            14.000000             38.000000     0.996750   \n",
       "75%       0.090000            21.000000             62.000000     0.997835   \n",
       "max       0.611000            72.000000            289.000000     1.003690   \n",
       "\n",
       "                pH    sulphates      alcohol      quality  \n",
       "count  1599.000000  1599.000000  1599.000000  1599.000000  \n",
       "mean      3.311113     0.658149    10.422983     5.636023  \n",
       "std       0.154386     0.169507     1.065668     0.807569  \n",
       "min       2.740000     0.330000     8.400000     3.000000  \n",
       "25%       3.210000     0.550000     9.500000     5.000000  \n",
       "50%       3.310000     0.620000    10.200000     6.000000  \n",
       "75%       3.400000     0.730000    11.100000     6.000000  \n",
       "max       4.010000     2.000000    14.900000     8.000000  "
      ]
     },
     "execution_count": 3,
     "metadata": {},
     "output_type": "execute_result"
    }
   ],
   "source": [
    "data.describe()"
   ]
  },
  {
   "cell_type": "code",
   "execution_count": 4,
   "metadata": {},
   "outputs": [
    {
     "name": "stdout",
     "output_type": "stream",
     "text": [
      "<class 'pandas.core.frame.DataFrame'>\n",
      "RangeIndex: 1599 entries, 0 to 1598\n",
      "Data columns (total 12 columns):\n",
      " #   Column                Non-Null Count  Dtype  \n",
      "---  ------                --------------  -----  \n",
      " 0   fixed acidity         1599 non-null   float64\n",
      " 1   volatile acidity      1599 non-null   float64\n",
      " 2   citric acid           1599 non-null   float64\n",
      " 3   residual sugar        1599 non-null   float64\n",
      " 4   chlorides             1599 non-null   float64\n",
      " 5   free sulfur dioxide   1599 non-null   float64\n",
      " 6   total sulfur dioxide  1599 non-null   float64\n",
      " 7   density               1599 non-null   float64\n",
      " 8   pH                    1599 non-null   float64\n",
      " 9   sulphates             1599 non-null   float64\n",
      " 10  alcohol               1599 non-null   float64\n",
      " 11  quality               1599 non-null   int64  \n",
      "dtypes: float64(11), int64(1)\n",
      "memory usage: 150.0 KB\n"
     ]
    }
   ],
   "source": [
    "data.info()"
   ]
  },
  {
   "cell_type": "code",
   "execution_count": 5,
   "metadata": {},
   "outputs": [
    {
     "data": {
      "text/plain": [
       "Counter({5: 681, 6: 638, 7: 199, 4: 53, 8: 18, 3: 10})"
      ]
     },
     "execution_count": 5,
     "metadata": {},
     "output_type": "execute_result"
    }
   ],
   "source": [
    "#count of each target variable\n",
    "from collections import Counter\n",
    "Counter(data['quality'])"
   ]
  },
  {
   "cell_type": "code",
   "execution_count": 6,
   "metadata": {},
   "outputs": [
    {
     "data": {
      "text/plain": [
       "<matplotlib.axes._subplots.AxesSubplot at 0x1bc49921ec8>"
      ]
     },
     "execution_count": 6,
     "metadata": {},
     "output_type": "execute_result"
    },
    {
     "data": {
      "image/png": "[encoded data removed]",
      "text/plain": [
       "<Figure size 432x288 with 1 Axes>"
      ]
     },
     "metadata": {
      "needs_background": "light"
     },
     "output_type": "display_data"
    }
   ],
   "source": [
    "#count of the target variable\n",
    "sns.countplot(x='quality', data = data, palette=\"Set3\")"
   ]
  },
  {
   "cell_type": "markdown",
   "metadata": {},
   "source": [
    "The mean quality with 5.6 is just barely above average. There are also no 1,2,9 or 10 quality level wines. This can also be due the test design itself with the end result being the median of three independent sensory tests."
   ]
  },
  {
   "cell_type": "code",
   "execution_count": 22,
   "metadata": {},
   "outputs": [
    {
     "data": {
      "image/png": "[encoded data removed]",
      "text/plain": [
       "<Figure size 720x576 with 2 Axes>"
      ]
     },
     "metadata": {
      "needs_background": "light"
     },
     "output_type": "display_data"
    }
   ],
   "source": [
    "#Plotting correlation heatmap\n",
    "correlation = data.corr()\n",
    "plt.figure(figsize=(10, 8))\n",
    "heatmap = sns.heatmap(correlation, annot = True, vmin = -1, cmap = \"RdBu_r\")"
   ]
  },
  {
   "cell_type": "markdown",
   "metadata": {},
   "source": [
    "| feature pair | correlation assumption | result |\n",
    "|:-:|:-:|:-:|\n",
    "| fixed acidity, pH | **-** | -0.68 |\n",
    "| fixed acidity, citric acid | **+** | 0.67 |\n",
    "| volatile acidity, quality | **-** | -0.39 |\n",
    "| residual sugar, density | **+** | 0.36 |\n",
    "| free sulfur dioxide, total sulfur dioxide | **+** | 0.67 |\n",
    "| density, alcohol | **-** | -0.5 |"
   ]
  },
  {
   "cell_type": "markdown",
   "metadata": {},
   "source": []
  },
  {
   "cell_type": "code",
   "execution_count": 8,
   "metadata": {},
   "outputs": [
    {
     "data": {
      "image/png": "[encoded data removed]",
      "text/plain": [
       "<Figure size 432x432 with 3 Axes>"
      ]
     },
     "metadata": {
      "needs_background": "light"
     },
     "output_type": "display_data"
    }
   ],
   "source": [
    "#Visualize the co-relation between pH and fixed Acidity\n",
    "\n",
    "#Create a new dataframe containing only pH and fixed acidity columns to visualize their co-relations\n",
    "fixedAcidity_pH = data[['pH', 'fixed acidity']]\n",
    "\n",
    "#Initialize a joint-grid with the dataframe, using seaborn library\n",
    "gridA = sns.JointGrid(x=\"fixed acidity\", y=\"pH\", data=fixedAcidity_pH, height=6)\n",
    "\n",
    "#Draws a regression plot in the grid \n",
    "gridA = gridA.plot_joint(sns.regplot, scatter_kws={\"s\": 10})\n",
    "\n",
    "#Draws a distribution plot in the same grid\n",
    "gridA = gridA.plot_marginals(sns.distplot)"
   ]
  },
  {
   "cell_type": "markdown",
   "metadata": {},
   "source": [
    "This scatter-plot shows how the values of pH change with changing fixed acidity levels. We can see that, as fixed acidity levels increase, the pH levels drop. Makes sense does it not? A lower pH level is, after all, an indicator of high acidity."
   ]
  },
  {
   "cell_type": "code",
   "execution_count": 9,
   "metadata": {},
   "outputs": [
    {
     "data": {
      "image/png": "[encoded data removed]",
      "text/plain": [
       "<Figure size 432x432 with 3 Axes>"
      ]
     },
     "metadata": {
      "needs_background": "light"
     },
     "output_type": "display_data"
    }
   ],
   "source": [
    "fixedAcidity_citricAcid = data[['citric acid', 'fixed acidity']]\n",
    "g = sns.JointGrid(x=\"fixed acidity\", y=\"citric acid\", data=fixedAcidity_citricAcid, height=6)\n",
    "g = g.plot_joint(sns.regplot, scatter_kws={\"s\": 10})\n",
    "g = g.plot_marginals(sns.distplot)"
   ]
  },
  {
   "cell_type": "markdown",
   "metadata": {},
   "source": [
    "As the amount of citric acids increase, so do the fixed acidity levels."
   ]
  },
  {
   "cell_type": "code",
   "execution_count": 10,
   "metadata": {},
   "outputs": [
    {
     "data": {
      "text/plain": [
       "<matplotlib.axes._subplots.AxesSubplot at 0x239c9952848>"
      ]
     },
     "execution_count": 10,
     "metadata": {},
     "output_type": "execute_result"
    },
    {
     "data": {
      "image/png": "[encoded data removed]",
      "text/plain": [
       "<Figure size 432x288 with 1 Axes>"
      ]
     },
     "metadata": {
      "needs_background": "light"
     },
     "output_type": "display_data"
    }
   ],
   "source": [
    "sns.boxplot('quality', 'volatile acidity', data = data, palette=\"Set3\")"
   ]
  },
  {
   "cell_type": "markdown",
   "metadata": {},
   "source": [
    "A higher quality is usually associated with low volatile acidity levels. This makes sense, because volatile acidity is an indicator of spoilage and could give rise to unpleasant aromas — consistent with our domain knowledge"
   ]
  },
  {
   "cell_type": "code",
   "execution_count": 11,
   "metadata": {},
   "outputs": [
    {
     "data": {
      "text/plain": [
       "<matplotlib.axes._subplots.AxesSubplot at 0x239c9a15908>"
      ]
     },
     "execution_count": 11,
     "metadata": {},
     "output_type": "execute_result"
    },
    {
     "data": {
      "image/png": "[encoded data removed]",
      "text/plain": [
       "<Figure size 432x288 with 1 Axes>"
      ]
     },
     "metadata": {
      "needs_background": "light"
     },
     "output_type": "display_data"
    }
   ],
   "source": [
    "sns.boxplot('quality', 'alcohol', data = data, palette=\"Set3\")"
   ]
  },
  {
   "cell_type": "markdown",
   "metadata": {},
   "source": [
    "Hmm. Seems like most people generally like wines that contain a higher percentage of alcohol, ones that make them feel woozy!\n",
    "\n",
    "Try experimenting with more features on your own in the notebook, and see if they reveal anything. If they are related in some way, what do you think might be the reason? Exploring will reveal more hidden insights."
   ]
  },
  {
   "cell_type": "markdown",
   "metadata": {},
   "source": [
    "# Section III Preprocessing Data for performing Machine learning algorithms"
   ]
  },
  {
   "cell_type": "code",
   "execution_count": 25,
   "metadata": {},
   "outputs": [],
   "source": [
    "#Importing required packages.\n",
    "import pandas as pd\n",
    "import seaborn as sns\n",
    "import matplotlib.pyplot as plt\n",
    "from sklearn.ensemble import RandomForestClassifier\n",
    "from sklearn.svm import SVC\n",
    "from sklearn.linear_model import SGDClassifier\n",
    "from sklearn.metrics import confusion_matrix, classification_report\n",
    "from sklearn.preprocessing import StandardScaler, LabelEncoder\n",
    "from sklearn.model_selection import train_test_split, GridSearchCV, cross_val_score\n",
    "%matplotlib inline"
   ]
  },
  {
   "cell_type": "code",
   "execution_count": 26,
   "metadata": {},
   "outputs": [],
   "source": [
    "#Making binary classificaion for the response variable.\n",
    "#Dividing wine as good and bad by giving the limit for the quality\n",
    "bins = (2, 6.5, 8)\n",
    "group_names = ['bad', 'good']\n",
    "data['quality'] = pd.cut(data['quality'], bins = bins, labels = group_names)"
   ]
  },
  {
   "cell_type": "code",
   "execution_count": 27,
   "metadata": {},
   "outputs": [],
   "source": [
    "#Now lets assign a labels to our quality variable\n",
    "label_quality = LabelEncoder()"
   ]
  },
  {
   "cell_type": "code",
   "execution_count": 28,
   "metadata": {},
   "outputs": [],
   "source": [
    "#Bad becomes 0 and good becomes 1 \n",
    "data['quality'] = label_quality.fit_transform(data['quality'])"
   ]
  },
  {
   "cell_type": "code",
   "execution_count": 29,
   "metadata": {},
   "outputs": [
    {
     "data": {
      "text/plain": [
       "0    1382\n",
       "1     217\n",
       "Name: quality, dtype: int64"
      ]
     },
     "execution_count": 29,
     "metadata": {},
     "output_type": "execute_result"
    }
   ],
   "source": [
    "data['quality'].value_counts()"
   ]
  },
  {
   "cell_type": "code",
   "execution_count": 30,
   "metadata": {},
   "outputs": [
    {
     "data": {
      "text/plain": [
       "<matplotlib.axes._subplots.AxesSubplot at 0x1bc4bed2708>"
      ]
     },
     "execution_count": 30,
     "metadata": {},
     "output_type": "execute_result"
    },
    {
     "data": {
      "image/png": "[encoded data removed]",
      "text/plain": [
       "<Figure size 432x288 with 1 Axes>"
      ]
     },
     "metadata": {
      "needs_background": "light"
     },
     "output_type": "display_data"
    }
   ],
   "source": [
    "sns.countplot(data['quality'], palette=\"Set3\")"
   ]
  },
  {
   "cell_type": "code",
   "execution_count": 31,
   "metadata": {},
   "outputs": [
    {
     "data": {
      "text/plain": [
       "6.4"
      ]
     },
     "execution_count": 31,
     "metadata": {},
     "output_type": "execute_result"
    }
   ],
   "source": [
    "round(data['quality'].value_counts()[0] / data['quality'].value_counts()[1], 1)"
   ]
  },
  {
   "cell_type": "markdown",
   "metadata": {},
   "source": [
    "### Section IV Testing Impact of Imbalanced Data"
   ]
  },
  {
   "cell_type": "code",
   "execution_count": 32,
   "metadata": {},
   "outputs": [],
   "source": [
    "#Now seperate the dataset as response variable and feature variabes\n",
    "X = data.drop('quality', axis = 1)\n",
    "y = data['quality']"
   ]
  },
  {
   "cell_type": "code",
   "execution_count": 33,
   "metadata": {},
   "outputs": [],
   "source": [
    "#Applying Standard scaling to get optimized result\n",
    "sc = StandardScaler()"
   ]
  },
  {
   "cell_type": "code",
   "execution_count": 34,
   "metadata": {},
   "outputs": [],
   "source": [
    "X = sc.fit_transform(X)"
   ]
  },
  {
   "cell_type": "code",
   "execution_count": 35,
   "metadata": {},
   "outputs": [],
   "source": [
    "#Train and Test splitting of data \n",
    "X_train, X_test, y_train, y_test = train_test_split(X, y, test_size = 0.2, random_state = 42)"
   ]
  },
  {
   "cell_type": "code",
   "execution_count": 36,
   "metadata": {},
   "outputs": [],
   "source": [
    "#Logistic Regression\n",
    "from sklearn.linear_model import LogisticRegression\n",
    "\n",
    "lr = LogisticRegression()\n",
    "lr.fit(X_train, y_train)\n",
    "lr_predict = lr.predict(X_test)"
   ]
  },
  {
   "cell_type": "code",
   "execution_count": 37,
   "metadata": {},
   "outputs": [
    {
     "name": "stdout",
     "output_type": "stream",
     "text": [
      "              precision    recall  f1-score   support\n",
      "\n",
      "           0       0.89      0.97      0.92       273\n",
      "           1       0.59      0.28      0.38        47\n",
      "\n",
      "    accuracy                           0.87       320\n",
      "   macro avg       0.74      0.62      0.65       320\n",
      "weighted avg       0.84      0.87      0.84       320\n",
      "\n"
     ]
    }
   ],
   "source": [
    "#Let's see how our model performed\n",
    "print(classification_report(y_test, lr_predict))"
   ]
  },
  {
   "cell_type": "markdown",
   "metadata": {},
   "source": [
    "Although the accuracy of the model is quite high with **0.87**, the f1-score for the good wine class is way to low with **0.38**. Accuaracy score is heavily skewed because of the class imbalance."
   ]
  },
  {
   "cell_type": "markdown",
   "metadata": {},
   "source": [
    "### Combating Class Imbalance with the SMOTE Algorithm\n",
    "To combat the class imbalance we could randomly downsample the bad wine class or randomly upsample the good wine class. In this notebook we will utilize the SMOTE algorithm (Synthetic Minority Oversampling Technique), which will synthesize new good wine entries."
   ]
  },
  {
   "cell_type": "code",
   "execution_count": 55,
   "metadata": {},
   "outputs": [],
   "source": [
    "from imblearn.over_sampling import SMOTE\n",
    "smote = SMOTE()"
   ]
  },
  {
   "cell_type": "code",
   "execution_count": 56,
   "metadata": {},
   "outputs": [],
   "source": [
    "X_train_smote, y_train_smote = smote.fit_sample(X_train, y_train)"
   ]
  },
  {
   "cell_type": "code",
   "execution_count": 57,
   "metadata": {},
   "outputs": [
    {
     "name": "stdout",
     "output_type": "stream",
     "text": [
      "Before SMOTE : Counter({0: 1109, 1: 170})\n",
      "After  SMOTE : Counter({0: 1109, 1: 1109})\n"
     ]
    }
   ],
   "source": [
    "from collections import Counter\n",
    "print(\"Before SMOTE :\" , Counter(y_train))\n",
    "print(\"After  SMOTE :\" , Counter(y_train_smote))"
   ]
  },
  {
   "cell_type": "code",
   "execution_count": 58,
   "metadata": {},
   "outputs": [],
   "source": [
    "lr.fit(X_train_smote, y_train_smote)\n",
    "lr_predict_smote = lr.predict(X_test)"
   ]
  },
  {
   "cell_type": "code",
   "execution_count": 84,
   "metadata": {},
   "outputs": [
    {
     "name": "stdout",
     "output_type": "stream",
     "text": [
      "\n",
      " Classification report before SMOTE (0: bad wine; 1: good wine) \n",
      "\n",
      "              precision    recall  f1-score   support\n",
      "\n",
      "           0       0.89      0.97      0.92       273\n",
      "           1       0.59      0.28      0.38        47\n",
      "\n",
      "    accuracy                           0.87       320\n",
      "   macro avg       0.74      0.62      0.65       320\n",
      "weighted avg       0.84      0.87      0.84       320\n",
      "\n",
      "\n",
      " Classification report after SMOTE (0: bad wine; 1: good wine) \n",
      "\n",
      "              precision    recall  f1-score   support\n",
      "\n",
      "           0       0.98      0.79      0.87       273\n",
      "           1       0.42      0.89      0.58        47\n",
      "\n",
      "    accuracy                           0.81       320\n",
      "   macro avg       0.70      0.84      0.72       320\n",
      "weighted avg       0.90      0.81      0.83       320\n",
      "\n"
     ]
    }
   ],
   "source": [
    "print(\"\\n Classification report before SMOTE (0: bad wine; 1: good wine) \\n\") \n",
    "print(classification_report(y_test, lr_predict))\n",
    "print(\"\\n Classification report after SMOTE (0: bad wine; 1: good wine) \\n\")\n",
    "print(classification_report(y_test, lr_predict_smote))"
   ]
  },
  {
   "cell_type": "markdown",
   "metadata": {},
   "source": [
    "Although the accuracy decreased by 6% the good wine f1-score saw an uptick by 20%. With that the reduced accuracy better reflects the real quality of the model.  "
   ]
  },
  {
   "cell_type": "markdown",
   "metadata": {},
   "source": [
    "### F1-Score Intermission\n",
    "\n",
    "To make the later comparison of the different prediction models easier and to reinforce my understanding of the underlying nature of the used metrics and their origin in the confusion matrix, i will define a little function to compute the precision, recall, f1-score and the accuracy score.  \n",
    "\n",
    "Definition: In statistical analysis of binary classification, the F1 score (also F-score or F-measure) is a measure of a test's accuracy. It considers both the precision p and the recall r of the test to compute the score: p is the number of correct positive results divided by the number of all positive results returned by the classifier, and r is the number of correct positive results divided by the number of all relevant samples (all samples that should have been identified as positive). The F1 score is the harmonic mean of the precision and recall, where an F1 score reaches its best value at 1 (perfect precision and recall). \n",
    "\n",
    "[[Source]](https://en.wikipedia.org/wiki/F1_score)"
   ]
  },
  {
   "cell_type": "code",
   "execution_count": 60,
   "metadata": {},
   "outputs": [
    {
     "name": "stdout",
     "output_type": "stream",
     "text": [
      "[[264   9]\n",
      " [ 34  13]]\n"
     ]
    }
   ],
   "source": [
    "from sklearn.metrics import confusion_matrix, accuracy_score\n",
    "lr_conf_matrix = confusion_matrix(y_test, lr_predict)\n",
    "print(lr_conf_matrix)"
   ]
  },
  {
   "cell_type": "code",
   "execution_count": 61,
   "metadata": {},
   "outputs": [],
   "source": [
    "def model_stats (y_test, rg_predict):\n",
    "    #Import packages\n",
    "    from sklearn.metrics import confusion_matrix\n",
    "    import numpy as np\n",
    "    import statistics \n",
    "    \n",
    "    conf_matrix = confusion_matrix(y_test, rg_predict)\n",
    "    output = []\n",
    "    for i in range(len(lr_conf_matrix)):\n",
    "        #Precision\n",
    "        p = conf_matrix[i,i] / conf_matrix[:,i].sum()\n",
    "        output.append(p)\n",
    "        #Recall\n",
    "        r = conf_matrix[i,i] / conf_matrix[i].sum()\n",
    "        output.append(r)\n",
    "        #F1 score\n",
    "        f1_score = statistics.harmonic_mean([p,r])\n",
    "        output.append(f1_score)\n",
    "    \n",
    "    #Accuracy score\n",
    "    acc_score = np.trace(conf_matrix) / conf_matrix.sum()\n",
    "    output.append(acc_score)\n",
    "    \n",
    "    return output"
   ]
  },
  {
   "cell_type": "code",
   "execution_count": 78,
   "metadata": {},
   "outputs": [],
   "source": [
    "#Creating Dataframe for later comparison\n",
    "df = pd.DataFrame(model_stats(y_test, lr_predict), columns=['lg'], \n",
    "                  index = [\"Precision_0\",\"Recall_0\",\"F1_Score_0\",\"Precision_1\",\"Recall_1\",\"F1_Score_1\",\"Accuracy_Score\"])"
   ]
  },
  {
   "cell_type": "code",
   "execution_count": 79,
   "metadata": {},
   "outputs": [
    {
     "data": {
      "text/html": [
       "<div>\n",
       "<style scoped>\n",
       "    .dataframe tbody tr th:only-of-type {\n",
       "        vertical-align: middle;\n",
       "    }\n",
       "\n",
       "    .dataframe tbody tr th {\n",
       "        vertical-align: top;\n",
       "    }\n",
       "\n",
       "    .dataframe thead th {\n",
       "        text-align: right;\n",
       "    }\n",
       "</style>\n",
       "<table border=\"1\" class=\"dataframe\">\n",
       "  <thead>\n",
       "    <tr style=\"text-align: right;\">\n",
       "      <th></th>\n",
       "      <th>lg</th>\n",
       "      <th>lg_smote</th>\n",
       "    </tr>\n",
       "  </thead>\n",
       "  <tbody>\n",
       "    <tr>\n",
       "      <th>Precision_0</th>\n",
       "      <td>0.885906</td>\n",
       "      <td>0.977376</td>\n",
       "    </tr>\n",
       "    <tr>\n",
       "      <th>Recall_0</th>\n",
       "      <td>0.967033</td>\n",
       "      <td>0.791209</td>\n",
       "    </tr>\n",
       "    <tr>\n",
       "      <th>F1_Score_0</th>\n",
       "      <td>0.924694</td>\n",
       "      <td>0.874494</td>\n",
       "    </tr>\n",
       "    <tr>\n",
       "      <th>Precision_1</th>\n",
       "      <td>0.590909</td>\n",
       "      <td>0.424242</td>\n",
       "    </tr>\n",
       "    <tr>\n",
       "      <th>Recall_1</th>\n",
       "      <td>0.276596</td>\n",
       "      <td>0.893617</td>\n",
       "    </tr>\n",
       "    <tr>\n",
       "      <th>F1_Score_1</th>\n",
       "      <td>0.376812</td>\n",
       "      <td>0.575342</td>\n",
       "    </tr>\n",
       "    <tr>\n",
       "      <th>Accuracy_Score</th>\n",
       "      <td>0.865625</td>\n",
       "      <td>0.806250</td>\n",
       "    </tr>\n",
       "  </tbody>\n",
       "</table>\n",
       "</div>"
      ],
      "text/plain": [
       "                      lg  lg_smote\n",
       "Precision_0     0.885906  0.977376\n",
       "Recall_0        0.967033  0.791209\n",
       "F1_Score_0      0.924694  0.874494\n",
       "Precision_1     0.590909  0.424242\n",
       "Recall_1        0.276596  0.893617\n",
       "F1_Score_1      0.376812  0.575342\n",
       "Accuracy_Score  0.865625  0.806250"
      ]
     },
     "execution_count": 79,
     "metadata": {},
     "output_type": "execute_result"
    }
   ],
   "source": [
    "df['lg_smote'] = model_stats(y_test, lr_predict_smote)\n",
    "df"
   ]
  },
  {
   "cell_type": "markdown",
   "metadata": {},
   "source": [
    "Testing addtional prediction models"
   ]
  },
  {
   "cell_type": "markdown",
   "metadata": {},
   "source": [
    "### Decision Tree Classifier"
   ]
  },
  {
   "cell_type": "code",
   "execution_count": 65,
   "metadata": {},
   "outputs": [],
   "source": [
    "#Decision Tree\n",
    "from sklearn.tree import DecisionTreeClassifier\n",
    "dt = DecisionTreeClassifier()\n",
    "dt.fit(X_train,y_train)\n",
    "dt_predict = dt.predict(X_test)\n",
    "\n",
    "#Decision Tree with Upsampled Data\n",
    "dt.fit(X_train_smote,y_train_smote)\n",
    "dt_predict_smote = dt.predict(X_test)\n",
    "\n",
    "#Extending Model Stats DataFrame\n",
    "df['dt'] = model_stats(y_test, dt_predict)\n",
    "df['dt_smote'] = model_stats(y_test, dt_predict_smote)"
   ]
  },
  {
   "cell_type": "code",
   "execution_count": 80,
   "metadata": {},
   "outputs": [
    {
     "name": "stdout",
     "output_type": "stream",
     "text": [
      "\n",
      " Classification report before SMOTE (0: bad wine; 1: good wine) \n",
      "\n",
      "              precision    recall  f1-score   support\n",
      "\n",
      "           0       0.93      0.95      0.94       273\n",
      "           1       0.66      0.62      0.64        47\n",
      "\n",
      "    accuracy                           0.90       320\n",
      "   macro avg       0.80      0.78      0.79       320\n",
      "weighted avg       0.89      0.90      0.90       320\n",
      "\n",
      "\n",
      " Classification report after SMOTE (0: bad wine; 1: good wine) \n",
      "\n",
      "              precision    recall  f1-score   support\n",
      "\n",
      "           0       0.93      0.91      0.92       273\n",
      "           1       0.54      0.62      0.57        47\n",
      "\n",
      "    accuracy                           0.87       320\n",
      "   macro avg       0.73      0.76      0.75       320\n",
      "weighted avg       0.87      0.87      0.87       320\n",
      "\n"
     ]
    }
   ],
   "source": [
    "print(\"\\n Classification report before SMOTE (0: bad wine; 1: good wine) \\n\") \n",
    "print(classification_report(y_test, dt_predict))\n",
    "print(\"\\n Classification report after SMOTE (0: bad wine; 1: good wine) \\n\")\n",
    "print(classification_report(y_test, dt_predict_smote))"
   ]
  },
  {
   "cell_type": "markdown",
   "metadata": {},
   "source": [
    "### Naive Bayes"
   ]
  },
  {
   "cell_type": "code",
   "execution_count": 67,
   "metadata": {},
   "outputs": [],
   "source": [
    "#NaiveBayes\n",
    "from sklearn.naive_bayes import GaussianNB\n",
    "nb = GaussianNB()\n",
    "nb.fit(X_train,y_train)\n",
    "nb_predict=nb.predict(X_test)\n",
    "\n",
    "#NaiveBayes with Upsampled Data\n",
    "nb.fit(X_train_smote,y_train_smote)\n",
    "nb_predict_smote = nb.predict(X_test)\n",
    "\n",
    "#Extending Model Stats DataFrame\n",
    "df['nb'] = model_stats(y_test, nb_predict)\n",
    "df['nb_smote'] = model_stats(y_test, nb_predict_smote)"
   ]
  },
  {
   "cell_type": "code",
   "execution_count": 81,
   "metadata": {},
   "outputs": [
    {
     "name": "stdout",
     "output_type": "stream",
     "text": [
      "\n",
      " Classification report before SMOTE (0: bad wine; 1: good wine) \n",
      "\n",
      "              precision    recall  f1-score   support\n",
      "\n",
      "           0       0.96      0.86      0.91       273\n",
      "           1       0.49      0.79      0.60        47\n",
      "\n",
      "    accuracy                           0.85       320\n",
      "   macro avg       0.72      0.82      0.75       320\n",
      "weighted avg       0.89      0.85      0.86       320\n",
      "\n",
      "\n",
      " Classification report after SMOTE (0: bad wine; 1: good wine) \n",
      "\n",
      "              precision    recall  f1-score   support\n",
      "\n",
      "           0       0.97      0.71      0.82       273\n",
      "           1       0.34      0.87      0.49        47\n",
      "\n",
      "    accuracy                           0.73       320\n",
      "   macro avg       0.66      0.79      0.66       320\n",
      "weighted avg       0.88      0.73      0.77       320\n",
      "\n"
     ]
    }
   ],
   "source": [
    "print(\"\\n Classification report before SMOTE (0: bad wine; 1: good wine) \\n\") \n",
    "print(classification_report(y_test, nb_predict))\n",
    "print(\"\\n Classification report after SMOTE (0: bad wine; 1: good wine) \\n\")\n",
    "print(classification_report(y_test, nb_predict_smote))"
   ]
  },
  {
   "cell_type": "markdown",
   "metadata": {},
   "source": [
    "### Random Forest Classifier"
   ]
  },
  {
   "cell_type": "code",
   "execution_count": 69,
   "metadata": {},
   "outputs": [],
   "source": [
    "#RandomForest classifier\n",
    "from sklearn.ensemble import RandomForestClassifier\n",
    "rf = RandomForestClassifier()\n",
    "rf.fit(X_train, y_train)\n",
    "rf_predict=rf.predict(X_test)\n",
    "\n",
    "#RandomForest classifier with Upsampled Data\n",
    "rf.fit(X_train_smote, y_train_smote)\n",
    "rf_predict_smote=rf.predict(X_test)\n",
    "\n",
    "#Extending Model Stats DataFrame\n",
    "df['rf'] = model_stats(y_test, rf_predict)\n",
    "df['rf_smote'] = model_stats(y_test, rf_predict_smote)"
   ]
  },
  {
   "cell_type": "code",
   "execution_count": 82,
   "metadata": {},
   "outputs": [
    {
     "name": "stdout",
     "output_type": "stream",
     "text": [
      "\n",
      " Classification report before SMOTE (0: bad wine; 1: good wine) \n",
      "\n",
      "              precision    recall  f1-score   support\n",
      "\n",
      "           0       0.92      0.95      0.94       273\n",
      "           1       0.64      0.53      0.58        47\n",
      "\n",
      "    accuracy                           0.89       320\n",
      "   macro avg       0.78      0.74      0.76       320\n",
      "weighted avg       0.88      0.89      0.88       320\n",
      "\n",
      "\n",
      " Classification report after SMOTE (0: bad wine; 1: good wine) \n",
      "\n",
      "              precision    recall  f1-score   support\n",
      "\n",
      "           0       0.96      0.93      0.95       273\n",
      "           1       0.67      0.79      0.73        47\n",
      "\n",
      "    accuracy                           0.91       320\n",
      "   macro avg       0.82      0.86      0.84       320\n",
      "weighted avg       0.92      0.91      0.92       320\n",
      "\n"
     ]
    }
   ],
   "source": [
    "print(\"\\n Classification report before SMOTE (0: bad wine; 1: good wine) \\n\") \n",
    "print(classification_report(y_test, rf_predict))\n",
    "print(\"\\n Classification report after SMOTE (0: bad wine; 1: good wine) \\n\")\n",
    "print(classification_report(y_test, rf_predict_smote))"
   ]
  },
  {
   "cell_type": "markdown",
   "metadata": {},
   "source": [
    "### SVM Classifier with rbf kernel"
   ]
  },
  {
   "cell_type": "code",
   "execution_count": 71,
   "metadata": {},
   "outputs": [],
   "source": [
    "#SVM Classifier with rbf kernel\n",
    "from sklearn.svm import SVC\n",
    "svc_rbf = SVC()\n",
    "svc_rbf.fit(X_train, y_train)\n",
    "svc_rbf_predict=svc_rbf.predict(X_test)\n",
    "\n",
    "#RSVM Classifier with Upsampled Data\n",
    "svc_rbf.fit(X_train_smote, y_train_smote)\n",
    "svc_rbf_predict_smote=svc_rbf.predict(X_test)\n",
    "\n",
    "#Extending Model Stats DataFrame\n",
    "df['svc_rbf'] = model_stats(y_test, svc_rbf_predict)\n",
    "df['svc_rbf_smote'] = model_stats(y_test, svc_rbf_predict_smote)"
   ]
  },
  {
   "cell_type": "code",
   "execution_count": 83,
   "metadata": {},
   "outputs": [
    {
     "name": "stdout",
     "output_type": "stream",
     "text": [
      "\n",
      " Classification report before SMOTE (0: bad wine; 1: good wine) \n",
      "\n",
      "              precision    recall  f1-score   support\n",
      "\n",
      "           0       0.88      0.98      0.93       273\n",
      "           1       0.71      0.26      0.37        47\n",
      "\n",
      "    accuracy                           0.88       320\n",
      "   macro avg       0.80      0.62      0.65       320\n",
      "weighted avg       0.86      0.88      0.85       320\n",
      "\n",
      "\n",
      " Classification report after SMOTE (0: bad wine; 1: good wine) \n",
      "\n",
      "              precision    recall  f1-score   support\n",
      "\n",
      "           0       0.97      0.84      0.90       273\n",
      "           1       0.48      0.87      0.62        47\n",
      "\n",
      "    accuracy                           0.84       320\n",
      "   macro avg       0.73      0.86      0.76       320\n",
      "weighted avg       0.90      0.84      0.86       320\n",
      "\n"
     ]
    }
   ],
   "source": [
    "print(\"\\n Classification report before SMOTE (0: bad wine; 1: good wine) \\n\") \n",
    "print(classification_report(y_test, svc_rbf_predict))\n",
    "print(\"\\n Classification report after SMOTE (0: bad wine; 1: good wine) \\n\")\n",
    "print(classification_report(y_test, svc_rbf_predict_smote))"
   ]
  },
  {
   "cell_type": "markdown",
   "metadata": {},
   "source": [
    "# Section XX comparing model performances"
   ]
  },
  {
   "cell_type": "code",
   "execution_count": 73,
   "metadata": {},
   "outputs": [
    {
     "data": {
      "text/html": [
       "<div>\n",
       "<style scoped>\n",
       "    .dataframe tbody tr th:only-of-type {\n",
       "        vertical-align: middle;\n",
       "    }\n",
       "\n",
       "    .dataframe tbody tr th {\n",
       "        vertical-align: top;\n",
       "    }\n",
       "\n",
       "    .dataframe thead th {\n",
       "        text-align: right;\n",
       "    }\n",
       "</style>\n",
       "<table border=\"1\" class=\"dataframe\">\n",
       "  <thead>\n",
       "    <tr style=\"text-align: right;\">\n",
       "      <th></th>\n",
       "      <th>lg</th>\n",
       "      <th>lg_smote</th>\n",
       "      <th>dt</th>\n",
       "      <th>dt_smote</th>\n",
       "      <th>nb</th>\n",
       "      <th>nb_smote</th>\n",
       "      <th>rf</th>\n",
       "      <th>rf_smote</th>\n",
       "      <th>svc_rbf</th>\n",
       "      <th>svc_rbf_smote</th>\n",
       "    </tr>\n",
       "  </thead>\n",
       "  <tbody>\n",
       "    <tr>\n",
       "      <th>Precision_0</th>\n",
       "      <td>0.885906</td>\n",
       "      <td>0.977376</td>\n",
       "      <td>0.934783</td>\n",
       "      <td>0.932331</td>\n",
       "      <td>0.959016</td>\n",
       "      <td>0.970000</td>\n",
       "      <td>0.921708</td>\n",
       "      <td>0.962264</td>\n",
       "      <td>0.884488</td>\n",
       "      <td>0.974468</td>\n",
       "    </tr>\n",
       "    <tr>\n",
       "      <th>Recall_0</th>\n",
       "      <td>0.967033</td>\n",
       "      <td>0.791209</td>\n",
       "      <td>0.945055</td>\n",
       "      <td>0.908425</td>\n",
       "      <td>0.857143</td>\n",
       "      <td>0.710623</td>\n",
       "      <td>0.948718</td>\n",
       "      <td>0.934066</td>\n",
       "      <td>0.981685</td>\n",
       "      <td>0.838828</td>\n",
       "    </tr>\n",
       "    <tr>\n",
       "      <th>F1_Score_0</th>\n",
       "      <td>0.924694</td>\n",
       "      <td>0.874494</td>\n",
       "      <td>0.939891</td>\n",
       "      <td>0.920223</td>\n",
       "      <td>0.905222</td>\n",
       "      <td>0.820296</td>\n",
       "      <td>0.935018</td>\n",
       "      <td>0.947955</td>\n",
       "      <td>0.930556</td>\n",
       "      <td>0.901575</td>\n",
       "    </tr>\n",
       "    <tr>\n",
       "      <th>Precision_1</th>\n",
       "      <td>0.590909</td>\n",
       "      <td>0.424242</td>\n",
       "      <td>0.659091</td>\n",
       "      <td>0.537037</td>\n",
       "      <td>0.486842</td>\n",
       "      <td>0.341667</td>\n",
       "      <td>0.641026</td>\n",
       "      <td>0.672727</td>\n",
       "      <td>0.705882</td>\n",
       "      <td>0.482353</td>\n",
       "    </tr>\n",
       "    <tr>\n",
       "      <th>Recall_1</th>\n",
       "      <td>0.276596</td>\n",
       "      <td>0.893617</td>\n",
       "      <td>0.617021</td>\n",
       "      <td>0.617021</td>\n",
       "      <td>0.787234</td>\n",
       "      <td>0.872340</td>\n",
       "      <td>0.531915</td>\n",
       "      <td>0.787234</td>\n",
       "      <td>0.255319</td>\n",
       "      <td>0.872340</td>\n",
       "    </tr>\n",
       "    <tr>\n",
       "      <th>F1_Score_1</th>\n",
       "      <td>0.376812</td>\n",
       "      <td>0.575342</td>\n",
       "      <td>0.637363</td>\n",
       "      <td>0.574257</td>\n",
       "      <td>0.601626</td>\n",
       "      <td>0.491018</td>\n",
       "      <td>0.581395</td>\n",
       "      <td>0.725490</td>\n",
       "      <td>0.375000</td>\n",
       "      <td>0.621212</td>\n",
       "    </tr>\n",
       "    <tr>\n",
       "      <th>Accuracy_Score</th>\n",
       "      <td>0.865625</td>\n",
       "      <td>0.806250</td>\n",
       "      <td>0.896875</td>\n",
       "      <td>0.865625</td>\n",
       "      <td>0.846875</td>\n",
       "      <td>0.734375</td>\n",
       "      <td>0.887500</td>\n",
       "      <td>0.912500</td>\n",
       "      <td>0.875000</td>\n",
       "      <td>0.843750</td>\n",
       "    </tr>\n",
       "  </tbody>\n",
       "</table>\n",
       "</div>"
      ],
      "text/plain": [
       "                      lg  lg_smote        dt  dt_smote        nb  nb_smote  \\\n",
       "Precision_0     0.885906  0.977376  0.934783  0.932331  0.959016  0.970000   \n",
       "Recall_0        0.967033  0.791209  0.945055  0.908425  0.857143  0.710623   \n",
       "F1_Score_0      0.924694  0.874494  0.939891  0.920223  0.905222  0.820296   \n",
       "Precision_1     0.590909  0.424242  0.659091  0.537037  0.486842  0.341667   \n",
       "Recall_1        0.276596  0.893617  0.617021  0.617021  0.787234  0.872340   \n",
       "F1_Score_1      0.376812  0.575342  0.637363  0.574257  0.601626  0.491018   \n",
       "Accuracy_Score  0.865625  0.806250  0.896875  0.865625  0.846875  0.734375   \n",
       "\n",
       "                      rf  rf_smote   svc_rbf  svc_rbf_smote  \n",
       "Precision_0     0.921708  0.962264  0.884488       0.974468  \n",
       "Recall_0        0.948718  0.934066  0.981685       0.838828  \n",
       "F1_Score_0      0.935018  0.947955  0.930556       0.901575  \n",
       "Precision_1     0.641026  0.672727  0.705882       0.482353  \n",
       "Recall_1        0.531915  0.787234  0.255319       0.872340  \n",
       "F1_Score_1      0.581395  0.725490  0.375000       0.621212  \n",
       "Accuracy_Score  0.887500  0.912500  0.875000       0.843750  "
      ]
     },
     "execution_count": 73,
     "metadata": {},
     "output_type": "execute_result"
    }
   ],
   "source": [
    "df"
   ]
  },
  {
   "cell_type": "code",
   "execution_count": 76,
   "metadata": {},
   "outputs": [],
   "source": [
    "df_highlight = df.drop(['Precision_0', 'Recall_0', 'Precision_1', 'Recall_1'])"
   ]
  },
  {
   "cell_type": "code",
   "execution_count": 77,
   "metadata": {},
   "outputs": [
    {
     "data": {
      "text/html": [
       "<style  type=\"text/css\" >\n",
       "    #T_58277680_cac9_11ea_86f9_1c7508fa14f3row0_col7 {\n",
       "            background-color:  yellow;\n",
       "        }    #T_58277680_cac9_11ea_86f9_1c7508fa14f3row1_col7 {\n",
       "            background-color:  yellow;\n",
       "        }    #T_58277680_cac9_11ea_86f9_1c7508fa14f3row2_col7 {\n",
       "            background-color:  yellow;\n",
       "        }</style><table id=\"T_58277680_cac9_11ea_86f9_1c7508fa14f3\" ><thead>    <tr>        <th class=\"blank level0\" ></th>        <th class=\"col_heading level0 col0\" >lg</th>        <th class=\"col_heading level0 col1\" >lg_smote</th>        <th class=\"col_heading level0 col2\" >dt</th>        <th class=\"col_heading level0 col3\" >dt_smote</th>        <th class=\"col_heading level0 col4\" >nb</th>        <th class=\"col_heading level0 col5\" >nb_smote</th>        <th class=\"col_heading level0 col6\" >rf</th>        <th class=\"col_heading level0 col7\" >rf_smote</th>        <th class=\"col_heading level0 col8\" >svc_rbf</th>        <th class=\"col_heading level0 col9\" >svc_rbf_smote</th>    </tr></thead><tbody>\n",
       "                <tr>\n",
       "                        <th id=\"T_58277680_cac9_11ea_86f9_1c7508fa14f3level0_row0\" class=\"row_heading level0 row0\" >F1_Score_0</th>\n",
       "                        <td id=\"T_58277680_cac9_11ea_86f9_1c7508fa14f3row0_col0\" class=\"data row0 col0\" >0.924694</td>\n",
       "                        <td id=\"T_58277680_cac9_11ea_86f9_1c7508fa14f3row0_col1\" class=\"data row0 col1\" >0.874494</td>\n",
       "                        <td id=\"T_58277680_cac9_11ea_86f9_1c7508fa14f3row0_col2\" class=\"data row0 col2\" >0.939891</td>\n",
       "                        <td id=\"T_58277680_cac9_11ea_86f9_1c7508fa14f3row0_col3\" class=\"data row0 col3\" >0.920223</td>\n",
       "                        <td id=\"T_58277680_cac9_11ea_86f9_1c7508fa14f3row0_col4\" class=\"data row0 col4\" >0.905222</td>\n",
       "                        <td id=\"T_58277680_cac9_11ea_86f9_1c7508fa14f3row0_col5\" class=\"data row0 col5\" >0.820296</td>\n",
       "                        <td id=\"T_58277680_cac9_11ea_86f9_1c7508fa14f3row0_col6\" class=\"data row0 col6\" >0.935018</td>\n",
       "                        <td id=\"T_58277680_cac9_11ea_86f9_1c7508fa14f3row0_col7\" class=\"data row0 col7\" >0.947955</td>\n",
       "                        <td id=\"T_58277680_cac9_11ea_86f9_1c7508fa14f3row0_col8\" class=\"data row0 col8\" >0.930556</td>\n",
       "                        <td id=\"T_58277680_cac9_11ea_86f9_1c7508fa14f3row0_col9\" class=\"data row0 col9\" >0.901575</td>\n",
       "            </tr>\n",
       "            <tr>\n",
       "                        <th id=\"T_58277680_cac9_11ea_86f9_1c7508fa14f3level0_row1\" class=\"row_heading level0 row1\" >F1_Score_1</th>\n",
       "                        <td id=\"T_58277680_cac9_11ea_86f9_1c7508fa14f3row1_col0\" class=\"data row1 col0\" >0.376812</td>\n",
       "                        <td id=\"T_58277680_cac9_11ea_86f9_1c7508fa14f3row1_col1\" class=\"data row1 col1\" >0.575342</td>\n",
       "                        <td id=\"T_58277680_cac9_11ea_86f9_1c7508fa14f3row1_col2\" class=\"data row1 col2\" >0.637363</td>\n",
       "                        <td id=\"T_58277680_cac9_11ea_86f9_1c7508fa14f3row1_col3\" class=\"data row1 col3\" >0.574257</td>\n",
       "                        <td id=\"T_58277680_cac9_11ea_86f9_1c7508fa14f3row1_col4\" class=\"data row1 col4\" >0.601626</td>\n",
       "                        <td id=\"T_58277680_cac9_11ea_86f9_1c7508fa14f3row1_col5\" class=\"data row1 col5\" >0.491018</td>\n",
       "                        <td id=\"T_58277680_cac9_11ea_86f9_1c7508fa14f3row1_col6\" class=\"data row1 col6\" >0.581395</td>\n",
       "                        <td id=\"T_58277680_cac9_11ea_86f9_1c7508fa14f3row1_col7\" class=\"data row1 col7\" >0.725490</td>\n",
       "                        <td id=\"T_58277680_cac9_11ea_86f9_1c7508fa14f3row1_col8\" class=\"data row1 col8\" >0.375000</td>\n",
       "                        <td id=\"T_58277680_cac9_11ea_86f9_1c7508fa14f3row1_col9\" class=\"data row1 col9\" >0.621212</td>\n",
       "            </tr>\n",
       "            <tr>\n",
       "                        <th id=\"T_58277680_cac9_11ea_86f9_1c7508fa14f3level0_row2\" class=\"row_heading level0 row2\" >Accuracy_Score</th>\n",
       "                        <td id=\"T_58277680_cac9_11ea_86f9_1c7508fa14f3row2_col0\" class=\"data row2 col0\" >0.865625</td>\n",
       "                        <td id=\"T_58277680_cac9_11ea_86f9_1c7508fa14f3row2_col1\" class=\"data row2 col1\" >0.806250</td>\n",
       "                        <td id=\"T_58277680_cac9_11ea_86f9_1c7508fa14f3row2_col2\" class=\"data row2 col2\" >0.896875</td>\n",
       "                        <td id=\"T_58277680_cac9_11ea_86f9_1c7508fa14f3row2_col3\" class=\"data row2 col3\" >0.865625</td>\n",
       "                        <td id=\"T_58277680_cac9_11ea_86f9_1c7508fa14f3row2_col4\" class=\"data row2 col4\" >0.846875</td>\n",
       "                        <td id=\"T_58277680_cac9_11ea_86f9_1c7508fa14f3row2_col5\" class=\"data row2 col5\" >0.734375</td>\n",
       "                        <td id=\"T_58277680_cac9_11ea_86f9_1c7508fa14f3row2_col6\" class=\"data row2 col6\" >0.887500</td>\n",
       "                        <td id=\"T_58277680_cac9_11ea_86f9_1c7508fa14f3row2_col7\" class=\"data row2 col7\" >0.912500</td>\n",
       "                        <td id=\"T_58277680_cac9_11ea_86f9_1c7508fa14f3row2_col8\" class=\"data row2 col8\" >0.875000</td>\n",
       "                        <td id=\"T_58277680_cac9_11ea_86f9_1c7508fa14f3row2_col9\" class=\"data row2 col9\" >0.843750</td>\n",
       "            </tr>\n",
       "    </tbody></table>"
      ],
      "text/plain": [
       "<pandas.io.formats.style.Styler at 0x1bc4d36c048>"
      ]
     },
     "execution_count": 77,
     "metadata": {},
     "output_type": "execute_result"
    }
   ],
   "source": [
    "df_highlight.style.highlight_max(axis=1)"
   ]
  },
  {
   "cell_type": "markdown",
   "metadata": {},
   "source": [
    "Findings and further thoughts:\n",
    " - Random Forest Classifier with upsampeled data returns the best prediction results.\n",
    " - Upsampling the data actually decreasis the prediction quality of the naive bayes "
   ]
  },
  {
   "cell_type": "markdown",
   "metadata": {},
   "source": [
    "# Future Questions"
   ]
  },
  {
   "cell_type": "markdown",
   "metadata": {},
   "source": [
    " - Testing additional prediction models \n",
    " - Outlier detection and impact on results"
   ]
  }
 ],
 "metadata": {
  "kernelspec": {
   "display_name": "Python 3",
   "language": "python",
   "name": "python3"
  },
  "language_info": {
   "codemirror_mode": {
    "name": "ipython",
    "version": 3
   },
   "file_extension": ".py",
   "mimetype": "text/x-python",
   "name": "python",
   "nbconvert_exporter": "python",
   "pygments_lexer": "ipython3",
   "version": "3.7.7"
  }
 },
 "nbformat": 4,
 "nbformat_minor": 4
}
